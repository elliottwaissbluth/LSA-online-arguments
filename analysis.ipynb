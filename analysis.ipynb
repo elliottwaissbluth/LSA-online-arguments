{
 "cells": [
  {
   "cell_type": "code",
   "execution_count": 1,
   "metadata": {},
   "outputs": [],
   "source": [
    "import pickle\n",
    "import statistics\n",
    "import matplotlib.pyplot as plt\n",
    "import nltk\n",
    "import pandas as pd\n",
    "\n",
    "from scipy import stats\n",
    "from convokit import Corpus, download"
   ]
  },
  {
   "cell_type": "code",
   "execution_count": 2,
   "metadata": {},
   "outputs": [
    {
     "name": "stdout",
     "output_type": "stream",
     "text": [
      "Dataset already exists at /Users/administrator/.convokit/downloads/conversations-gone-awry-corpus\n",
      "Dataset already exists at /Users/administrator/.convokit/downloads/conversations-gone-awry-cmv-corpus\n",
      "Dataset already exists at /Users/administrator/.convokit/downloads/wiki-corpus\n",
      "Dataset already exists at /Users/administrator/.convokit/downloads/reddit-corpus-small\n"
     ]
    }
   ],
   "source": [
    "wiki_awry_corpus = Corpus(filename=download('conversations-gone-awry-corpus'))\n",
    "reddit_awry_corpus = Corpus(filename=download(\"conversations-gone-awry-cmv-corpus\"))\n",
    "wiki_reg_corpus = Corpus(filename=download('wiki-corpus'))\n",
    "reddit_reg_corpus = Corpus(filename=download(\"reddit-corpus-small\"))"
   ]
  },
  {
   "cell_type": "code",
   "execution_count": 3,
   "metadata": {},
   "outputs": [],
   "source": [
    "with open('full_results_reddit_args.pkl', 'rb') as handle:\n",
    "    reddit_results = pickle.load(handle)\n",
    "    \n",
    "with open('full_results_wiki_args.pkl', 'rb') as handle:\n",
    "    wikipedia_results = pickle.load(handle)\n",
    "    \n",
    "with open('full_results_reddit_reg.pkl', 'rb') as handle:\n",
    "    reddit_reg_results = pickle.load(handle)\n",
    "    \n",
    "with open('full_results_wiki_reg.pkl', 'rb') as handle:\n",
    "    wikipedia_reg_results = pickle.load(handle)"
   ]
  },
  {
   "cell_type": "code",
   "execution_count": 4,
   "metadata": {},
   "outputs": [],
   "source": [
    "def get_values(results, key):\n",
    "    return [r[key] for r in results]\n",
    "\n",
    "def agg_asym(results):\n",
    "    return get_values(results, 'mean_C_b_a') + get_values(results, 'mean_C_a_b')"
   ]
  },
  {
   "cell_type": "code",
   "execution_count": 5,
   "metadata": {},
   "outputs": [],
   "source": [
    "reddit_lsms = get_values(reddit_results, 'mean_LSM')\n",
    "wikipedia_lsms = get_values(wikipedia_results, 'mean_LSM')\n",
    "reddit_reg_lsms = get_values(reddit_reg_results, 'mean_LSM')\n",
    "wikipedia_reg_lsms = get_values(wikipedia_reg_results, 'mean_LSM')\n",
    "\n",
    "all_reddit_symm = reddit_lsms + reddit_reg_lsms\n",
    "all_wikipedia_symm = wikipedia_lsms + wikipedia_reg_lsms\n",
    "all_awry_symm = reddit_lsms + wikipedia_lsms\n",
    "all_reg_symm = reddit_reg_lsms + wikipedia_reg_lsms"
   ]
  },
  {
   "cell_type": "code",
   "execution_count": 6,
   "metadata": {},
   "outputs": [],
   "source": [
    "reddit_asym = agg_asym(reddit_results)\n",
    "wikipedia_asym = agg_asym(wikipedia_results)\n",
    "reddit_reg_asym = agg_asym(reddit_reg_results)\n",
    "wikipedia_reg_asym = agg_asym(wikipedia_reg_results)\n",
    "\n",
    "all_reddit_asym = reddit_asym + reddit_reg_asym\n",
    "all_wikipedia_asym = wikipedia_asym + wikipedia_reg_asym\n",
    "all_awry_asym = reddit_asym + wikipedia_asym\n",
    "all_reg_asym = reddit_reg_asym + wikipedia_reg_asym"
   ]
  },
  {
   "cell_type": "code",
   "execution_count": 7,
   "metadata": {},
   "outputs": [],
   "source": [
    "def lsm_stats(lsms):\n",
    "    d = {}\n",
    "    d['min'] = min(lsms)\n",
    "    d['max'] = max(lsms)\n",
    "    d['mean'] = statistics.mean(lsms)\n",
    "    d['median'] = statistics.median(lsms)\n",
    "    d['variance'] = statistics.variance(lsms)\n",
    "    print(d)\n",
    "    plt.hist(lsms)\n",
    "    plt.show()\n",
    "    \n",
    "def compare(x, y):\n",
    "    lsm_stats(x)\n",
    "    lsm_stats(y)\n",
    "    print(stats.ttest_ind(x, y, equal_var=False))"
   ]
  },
  {
   "cell_type": "markdown",
   "metadata": {},
   "source": [
    "# Symmetric: Reddit vs. Wikipedia"
   ]
  },
  {
   "cell_type": "code",
   "execution_count": 8,
   "metadata": {},
   "outputs": [
    {
     "name": "stdout",
     "output_type": "stream",
     "text": [
      "{'min': 0, 'max': 1.0, 'mean': 0.8494764356751682, 'median': 0.853590108073333, 'variance': 0.008029112570727161}\n"
     ]
    },
    {
     "data": {
      "image/png": "[encoded data removed]",
      "text/plain": [
       "<Figure size 432x288 with 1 Axes>"
      ]
     },
     "metadata": {
      "needs_background": "light"
     },
     "output_type": "display_data"
    },
    {
     "name": "stdout",
     "output_type": "stream",
     "text": [
      "{'min': 0, 'max': 1.0, 'mean': 0.8318004968509434, 'median': 0.8349572093010975, 'variance': 0.014305376573612538}\n"
     ]
    },
    {
     "data": {
      "image/png": "[encoded data removed]",
      "text/plain": [
       "<Figure size 432x288 with 1 Axes>"
      ]
     },
     "metadata": {
      "needs_background": "light"
     },
     "output_type": "display_data"
    },
    {
     "name": "stdout",
     "output_type": "stream",
     "text": [
      "Ttest_indResult(statistic=4.193623801926078, pvalue=2.8761330058070445e-05)\n"
     ]
    }
   ],
   "source": [
    "compare(all_reddit_symm, all_wikipedia_symm)"
   ]
  },
  {
   "cell_type": "markdown",
   "metadata": {},
   "source": [
    "# Symmetric: Awry vs. Reg"
   ]
  },
  {
   "cell_type": "code",
   "execution_count": 9,
   "metadata": {
    "scrolled": true
   },
   "outputs": [
    {
     "name": "stdout",
     "output_type": "stream",
     "text": [
      "{'min': 0, 'max': 1.0, 'mean': 0.8516914652663984, 'median': 0.8571476188888943, 'variance': 0.009567384774720009}\n"
     ]
    },
    {
     "data": {
      "image/png": "[encoded data removed]",
      "text/plain": [
       "<Figure size 432x288 with 1 Axes>"
      ]
     },
     "metadata": {
      "needs_background": "light"
     },
     "output_type": "display_data"
    },
    {
     "name": "stdout",
     "output_type": "stream",
     "text": [
      "{'min': 0, 'max': 1.0, 'mean': 0.8272915960856947, 'median': 0.8333388887037099, 'variance': 0.011743859630845862}\n"
     ]
    },
    {
     "data": {
      "image/png": "[encoded data removed]",
      "text/plain": [
       "<Figure size 432x288 with 1 Axes>"
      ]
     },
     "metadata": {
      "needs_background": "light"
     },
     "output_type": "display_data"
    },
    {
     "name": "stdout",
     "output_type": "stream",
     "text": [
      "Ttest_indResult(statistic=5.989828264616234, pvalue=2.483236203427924e-09)\n"
     ]
    }
   ],
   "source": [
    "compare(all_awry_symm, all_reg_symm)"
   ]
  },
  {
   "cell_type": "markdown",
   "metadata": {},
   "source": [
    "# ANOVA"
   ]
  },
  {
   "cell_type": "code",
   "execution_count": 10,
   "metadata": {},
   "outputs": [
    {
     "data": {
      "text/html": [
       "<div>\n",
       "<style scoped>\n",
       "    .dataframe tbody tr th:only-of-type {\n",
       "        vertical-align: middle;\n",
       "    }\n",
       "\n",
       "    .dataframe tbody tr th {\n",
       "        vertical-align: top;\n",
       "    }\n",
       "\n",
       "    .dataframe thead th {\n",
       "        text-align: right;\n",
       "    }\n",
       "</style>\n",
       "<table border=\"1\" class=\"dataframe\">\n",
       "  <thead>\n",
       "    <tr style=\"text-align: right;\">\n",
       "      <th></th>\n",
       "      <th>LSM</th>\n",
       "      <th>corpus</th>\n",
       "      <th>awry</th>\n",
       "    </tr>\n",
       "  </thead>\n",
       "  <tbody>\n",
       "    <tr>\n",
       "      <th>0</th>\n",
       "      <td>0.832471</td>\n",
       "      <td>reddit</td>\n",
       "      <td>True</td>\n",
       "    </tr>\n",
       "    <tr>\n",
       "      <th>1</th>\n",
       "      <td>0.830306</td>\n",
       "      <td>reddit</td>\n",
       "      <td>True</td>\n",
       "    </tr>\n",
       "    <tr>\n",
       "      <th>2</th>\n",
       "      <td>0.846203</td>\n",
       "      <td>reddit</td>\n",
       "      <td>True</td>\n",
       "    </tr>\n",
       "    <tr>\n",
       "      <th>3</th>\n",
       "      <td>0.846670</td>\n",
       "      <td>reddit</td>\n",
       "      <td>True</td>\n",
       "    </tr>\n",
       "    <tr>\n",
       "      <th>4</th>\n",
       "      <td>0.962964</td>\n",
       "      <td>reddit</td>\n",
       "      <td>True</td>\n",
       "    </tr>\n",
       "    <tr>\n",
       "      <th>...</th>\n",
       "      <td>...</td>\n",
       "      <td>...</td>\n",
       "      <td>...</td>\n",
       "    </tr>\n",
       "    <tr>\n",
       "      <th>506</th>\n",
       "      <td>0.800005</td>\n",
       "      <td>wikipedia</td>\n",
       "      <td>False</td>\n",
       "    </tr>\n",
       "    <tr>\n",
       "      <th>507</th>\n",
       "      <td>0.952383</td>\n",
       "      <td>wikipedia</td>\n",
       "      <td>False</td>\n",
       "    </tr>\n",
       "    <tr>\n",
       "      <th>508</th>\n",
       "      <td>0.733342</td>\n",
       "      <td>wikipedia</td>\n",
       "      <td>False</td>\n",
       "    </tr>\n",
       "    <tr>\n",
       "      <th>509</th>\n",
       "      <td>0.933336</td>\n",
       "      <td>wikipedia</td>\n",
       "      <td>False</td>\n",
       "    </tr>\n",
       "    <tr>\n",
       "      <th>510</th>\n",
       "      <td>0.777785</td>\n",
       "      <td>wikipedia</td>\n",
       "      <td>False</td>\n",
       "    </tr>\n",
       "  </tbody>\n",
       "</table>\n",
       "<p>2834 rows × 3 columns</p>\n",
       "</div>"
      ],
      "text/plain": [
       "          LSM     corpus   awry\n",
       "0    0.832471     reddit   True\n",
       "1    0.830306     reddit   True\n",
       "2    0.846203     reddit   True\n",
       "3    0.846670     reddit   True\n",
       "4    0.962964     reddit   True\n",
       "..        ...        ...    ...\n",
       "506  0.800005  wikipedia  False\n",
       "507  0.952383  wikipedia  False\n",
       "508  0.733342  wikipedia  False\n",
       "509  0.933336  wikipedia  False\n",
       "510  0.777785  wikipedia  False\n",
       "\n",
       "[2834 rows x 3 columns]"
      ]
     },
     "execution_count": 10,
     "metadata": {},
     "output_type": "execute_result"
    }
   ],
   "source": [
    "df1 = pd.DataFrame(reddit_lsms, columns=[\"LSM\"])\n",
    "df1['corpus'] = 'reddit'\n",
    "df1['awry'] = 'True'\n",
    "\n",
    "df2 = pd.DataFrame(reddit_reg_lsms, columns=[\"LSM\"])\n",
    "df2['corpus'] = 'reddit'\n",
    "df2['awry'] = 'False'\n",
    "\n",
    "df3 = pd.DataFrame(wikipedia_lsms, columns=[\"LSM\"])\n",
    "df3['corpus'] = 'wikipedia'\n",
    "df3['awry'] = 'True'\n",
    "\n",
    "df4 = pd.DataFrame(wikipedia_reg_lsms, columns=[\"LSM\"])\n",
    "df4['corpus'] = 'wikipedia'\n",
    "df4['awry'] = 'False'\n",
    "\n",
    "df = pd.concat([df1, df2, df3, df4])\n",
    "df"
   ]
  },
  {
   "cell_type": "code",
   "execution_count": 11,
   "metadata": {},
   "outputs": [
    {
     "data": {
      "text/html": [
       "<div>\n",
       "<style scoped>\n",
       "    .dataframe tbody tr th:only-of-type {\n",
       "        vertical-align: middle;\n",
       "    }\n",
       "\n",
       "    .dataframe tbody tr th {\n",
       "        vertical-align: top;\n",
       "    }\n",
       "\n",
       "    .dataframe thead th {\n",
       "        text-align: right;\n",
       "    }\n",
       "</style>\n",
       "<table border=\"1\" class=\"dataframe\">\n",
       "  <thead>\n",
       "    <tr style=\"text-align: right;\">\n",
       "      <th></th>\n",
       "      <th>sum_sq</th>\n",
       "      <th>df</th>\n",
       "      <th>F</th>\n",
       "      <th>PR(&gt;F)</th>\n",
       "    </tr>\n",
       "  </thead>\n",
       "  <tbody>\n",
       "    <tr>\n",
       "      <th>C(corpus)</th>\n",
       "      <td>0.128101</td>\n",
       "      <td>1.0</td>\n",
       "      <td>12.838282</td>\n",
       "      <td>3.453271e-04</td>\n",
       "    </tr>\n",
       "    <tr>\n",
       "      <th>C(awry)</th>\n",
       "      <td>0.311397</td>\n",
       "      <td>1.0</td>\n",
       "      <td>31.208250</td>\n",
       "      <td>2.538157e-08</td>\n",
       "    </tr>\n",
       "    <tr>\n",
       "      <th>C(corpus):C(awry)</th>\n",
       "      <td>0.998941</td>\n",
       "      <td>1.0</td>\n",
       "      <td>100.113960</td>\n",
       "      <td>3.476915e-23</td>\n",
       "    </tr>\n",
       "    <tr>\n",
       "      <th>Residual</th>\n",
       "      <td>28.237855</td>\n",
       "      <td>2830.0</td>\n",
       "      <td>NaN</td>\n",
       "      <td>NaN</td>\n",
       "    </tr>\n",
       "  </tbody>\n",
       "</table>\n",
       "</div>"
      ],
      "text/plain": [
       "                      sum_sq      df           F        PR(>F)\n",
       "C(corpus)           0.128101     1.0   12.838282  3.453271e-04\n",
       "C(awry)             0.311397     1.0   31.208250  2.538157e-08\n",
       "C(corpus):C(awry)   0.998941     1.0  100.113960  3.476915e-23\n",
       "Residual           28.237855  2830.0         NaN           NaN"
      ]
     },
     "execution_count": 11,
     "metadata": {},
     "output_type": "execute_result"
    }
   ],
   "source": [
    "# https://www.statology.org/two-way-anova-python/ \n",
    "import statsmodels.api as sm\n",
    "from statsmodels.formula.api import ols\n",
    "\n",
    "#perform two-way ANOVA\n",
    "model = ols('LSM ~ C(corpus) + C(awry) + C(corpus):C(awry)', data=df).fit()\n",
    "sm.stats.anova_lm(model, typ=2)"
   ]
  },
  {
   "cell_type": "code",
   "execution_count": 12,
   "metadata": {},
   "outputs": [
    {
     "data": {
      "text/html": [
       "<div>\n",
       "<style scoped>\n",
       "    .dataframe tbody tr th:only-of-type {\n",
       "        vertical-align: middle;\n",
       "    }\n",
       "\n",
       "    .dataframe tbody tr th {\n",
       "        vertical-align: top;\n",
       "    }\n",
       "\n",
       "    .dataframe thead th {\n",
       "        text-align: right;\n",
       "    }\n",
       "</style>\n",
       "<table border=\"1\" class=\"dataframe\">\n",
       "  <thead>\n",
       "    <tr style=\"text-align: right;\">\n",
       "      <th></th>\n",
       "      <th>reject1</th>\n",
       "      <th>reject2</th>\n",
       "      <th>total_sum</th>\n",
       "    </tr>\n",
       "  </thead>\n",
       "  <tbody>\n",
       "    <tr>\n",
       "      <th>reddit / False</th>\n",
       "      <td>2.0</td>\n",
       "      <td>0.0</td>\n",
       "      <td>2.0</td>\n",
       "    </tr>\n",
       "    <tr>\n",
       "      <th>reddit / True</th>\n",
       "      <td>2.0</td>\n",
       "      <td>1.0</td>\n",
       "      <td>3.0</td>\n",
       "    </tr>\n",
       "    <tr>\n",
       "      <th>wikipedia / False</th>\n",
       "      <td>1.0</td>\n",
       "      <td>2.0</td>\n",
       "      <td>3.0</td>\n",
       "    </tr>\n",
       "    <tr>\n",
       "      <th>wikipedia / True</th>\n",
       "      <td>0.0</td>\n",
       "      <td>2.0</td>\n",
       "      <td>2.0</td>\n",
       "    </tr>\n",
       "  </tbody>\n",
       "</table>\n",
       "</div>"
      ],
      "text/plain": [
       "                   reject1  reject2  total_sum\n",
       "reddit / False         2.0      0.0        2.0\n",
       "reddit / True          2.0      1.0        3.0\n",
       "wikipedia / False      1.0      2.0        3.0\n",
       "wikipedia / True       0.0      2.0        2.0"
      ]
     },
     "execution_count": 12,
     "metadata": {},
     "output_type": "execute_result"
    }
   ],
   "source": [
    "from statsmodels.stats.multicomp import pairwise_tukeyhsd\n",
    "\n",
    "df['combination'] = df.corpus + \" / \" + df.awry\n",
    "\n",
    "# perform multiple pairwise comparison (Tukey HSD)\n",
    "m_comp = pairwise_tukeyhsd(endog=df['LSM'], groups=df['combination'], alpha=0.05)\n",
    "\n",
    "# coerce the tukeyhsd table to a DataFrame\n",
    "tukey_data = pd.DataFrame(data=m_comp._results_table.data[1:], columns = m_comp._results_table.data[0])\n",
    "\n",
    "group1_comp =tukey_data.loc[tukey_data.reject == True].groupby('group1').reject.count()\n",
    "group2_comp = tukey_data.loc[tukey_data.reject == True].groupby('group2').reject.count()\n",
    "tukey_data = pd.concat([group1_comp, group2_comp], axis=1)\n",
    "\n",
    "tukey_data = tukey_data.fillna(0)\n",
    "tukey_data.columns = ['reject1', 'reject2']\n",
    "tukey_data['total_sum'] = tukey_data.reject1 + tukey_data.reject2\n",
    "tukey_data"
   ]
  },
  {
   "cell_type": "markdown",
   "metadata": {},
   "source": [
    "# Asymmetric: Reddit vs. Wikipedia"
   ]
  },
  {
   "cell_type": "code",
   "execution_count": 13,
   "metadata": {},
   "outputs": [
    {
     "name": "stdout",
     "output_type": "stream",
     "text": [
      "{'min': 0.0, 'max': 0.7142857142857143, 'mean': 0.12219178756204475, 'median': 0.1, 'variance': 0.011111254896946731}\n"
     ]
    },
    {
     "data": {
      "image/png": "[encoded data removed]",
      "text/plain": [
       "<Figure size 432x288 with 1 Axes>"
      ]
     },
     "metadata": {
      "needs_background": "light"
     },
     "output_type": "display_data"
    },
    {
     "name": "stdout",
     "output_type": "stream",
     "text": [
      "{'min': 0.0, 'max': 1.0, 'mean': 0.12443240863648322, 'median': 0.08333333333333333, 'variance': 0.021692918868906206}\n"
     ]
    },
    {
     "data": {
      "image/png": "[encoded data removed]",
      "text/plain": [
       "<Figure size 432x288 with 1 Axes>"
      ]
     },
     "metadata": {
      "needs_background": "light"
     },
     "output_type": "display_data"
    },
    {
     "name": "stdout",
     "output_type": "stream",
     "text": [
      "Ttest_indResult(statistic=-0.6175109358348979, pvalue=0.5369373845351009)\n"
     ]
    }
   ],
   "source": [
    "compare(all_reddit_asym, all_wikipedia_asym)"
   ]
  },
  {
   "cell_type": "markdown",
   "metadata": {},
   "source": [
    "# Asymmetric: Awry vs. Reg"
   ]
  },
  {
   "cell_type": "code",
   "execution_count": 14,
   "metadata": {},
   "outputs": [
    {
     "name": "stdout",
     "output_type": "stream",
     "text": [
      "{'min': 0.0, 'max': 1.0, 'mean': 0.10504618595505467, 'median': 0.07142857142857142, 'variance': 0.013587797286485785}\n"
     ]
    },
    {
     "data": {
      "image/png": "[encoded data removed]",
      "text/plain": [
       "<Figure size 432x288 with 1 Axes>"
      ]
     },
     "metadata": {
      "needs_background": "light"
     },
     "output_type": "display_data"
    },
    {
     "name": "stdout",
     "output_type": "stream",
     "text": [
      "{'min': 0.0, 'max': 1.0, 'mean': 0.1539197007453325, 'median': 0.1388888888888889, 'variance': 0.016365603697946828}\n"
     ]
    },
    {
     "data": {
      "image/png": "[encoded data removed]",
      "text/plain": [
       "<Figure size 432x288 with 1 Axes>"
      ]
     },
     "metadata": {
      "needs_background": "light"
     },
     "output_type": "display_data"
    },
    {
     "name": "stdout",
     "output_type": "stream",
     "text": [
      "Ttest_indResult(statistic=-14.329139589439384, pvalue=1.8347075806471918e-45)\n"
     ]
    }
   ],
   "source": [
    "compare(all_awry_asym, all_reg_asym)"
   ]
  },
  {
   "cell_type": "markdown",
   "metadata": {},
   "source": [
    "# Symmetric: Has Removed vs No Removed Comments (Reddit Awry)"
   ]
  },
  {
   "cell_type": "code",
   "execution_count": 15,
   "metadata": {},
   "outputs": [],
   "source": [
    "has_removed = []\n",
    "no_removed = []\n",
    "for r in reddit_results:\n",
    "    convo = reddit_awry_corpus.get_conversation(r['convID'])\n",
    "    if convo.retrieve_meta('has_removed_comment'):\n",
    "        has_removed.append(r['mean_LSM'])\n",
    "    else:\n",
    "        no_removed.append(r['mean_LSM'])"
   ]
  },
  {
   "cell_type": "code",
   "execution_count": 16,
   "metadata": {},
   "outputs": [
    {
     "name": "stdout",
     "output_type": "stream",
     "text": [
      "{'min': 0, 'max': 1.0, 'mean': 0.8678546852638526, 'median': 0.8750041665277823, 'variance': 0.007532233528816973}\n"
     ]
    },
    {
     "data": {
      "image/png": "[encoded data removed]",
      "text/plain": [
       "<Figure size 432x288 with 1 Axes>"
      ]
     },
     "metadata": {
      "needs_background": "light"
     },
     "output_type": "display_data"
    },
    {
     "name": "stdout",
     "output_type": "stream",
     "text": [
      "{'min': 0.5000124996875077, 'max': 1.0, 'mean': 0.8651629615735764, 'median': 0.8688339452088676, 'variance': 0.006138096321126589}\n"
     ]
    },
    {
     "data": {
      "image/png": "[encoded data removed]",
      "text/plain": [
       "<Figure size 432x288 with 1 Axes>"
      ]
     },
     "metadata": {
      "needs_background": "light"
     },
     "output_type": "display_data"
    },
    {
     "name": "stdout",
     "output_type": "stream",
     "text": [
      "Ttest_indResult(statistic=0.5667838756705991, pvalue=0.5709679304621054)\n"
     ]
    }
   ],
   "source": [
    "compare(has_removed, no_removed)"
   ]
  },
  {
   "cell_type": "markdown",
   "metadata": {},
   "source": [
    "# Symmetric: Has Personal Attack vs. No Attack (Wikipedia Awry)"
   ]
  },
  {
   "cell_type": "code",
   "execution_count": 17,
   "metadata": {},
   "outputs": [],
   "source": [
    "has_attack = []\n",
    "no_attack = []\n",
    "for r in wikipedia_results:\n",
    "    convo = wiki_awry_corpus.get_conversation(r['convID'])\n",
    "    if convo.retrieve_meta('conversation_has_personal_attack'):\n",
    "        has_attack.append(r['mean_LSM'])\n",
    "    else:\n",
    "        no_attack.append(r['mean_LSM'])"
   ]
  },
  {
   "cell_type": "code",
   "execution_count": 18,
   "metadata": {},
   "outputs": [
    {
     "name": "stdout",
     "output_type": "stream",
     "text": [
      "{'min': 0, 'max': 1.0, 'mean': 0.8158361849452753, 'median': 0.8208377846068666, 'variance': 0.014050165772549335}\n"
     ]
    },
    {
     "data": {
      "image/png": "[encoded data removed]",
      "text/plain": [
       "<Figure size 432x288 with 1 Axes>"
      ]
     },
     "metadata": {
      "needs_background": "light"
     },
     "output_type": "display_data"
    },
    {
     "name": "stdout",
     "output_type": "stream",
     "text": [
      "{'min': 0, 'max': 1.0, 'mean': 0.826674917945357, 'median': 0.8333388887037098, 'variance': 0.013819739026392507}\n"
     ]
    },
    {
     "data": {
      "image/png": "[encoded data removed]",
      "text/plain": [
       "<Figure size 432x288 with 1 Axes>"
      ]
     },
     "metadata": {
      "needs_background": "light"
     },
     "output_type": "display_data"
    },
    {
     "name": "stdout",
     "output_type": "stream",
     "text": [
      "Ttest_indResult(statistic=-1.0888613361873365, pvalue=0.27671354703158435)\n"
     ]
    }
   ],
   "source": [
    "compare(has_attack, no_attack)"
   ]
  },
  {
   "cell_type": "markdown",
   "metadata": {},
   "source": [
    "# Symmetric: Reddit Awry vs Wikipedia Awry"
   ]
  },
  {
   "cell_type": "code",
   "execution_count": 19,
   "metadata": {},
   "outputs": [
    {
     "name": "stdout",
     "output_type": "stream",
     "text": [
      "{'min': 0, 'max': 1.0, 'mean': 0.8664833461986008, 'median': 0.8733367554574845, 'variance': 0.00681814042055069}\n"
     ]
    },
    {
     "data": {
      "image/png": "[encoded data removed]",
      "text/plain": [
       "<Figure size 432x288 with 1 Axes>"
      ]
     },
     "metadata": {
      "needs_background": "light"
     },
     "output_type": "display_data"
    },
    {
     "name": "stdout",
     "output_type": "stream",
     "text": [
      "{'min': 0, 'max': 1.0, 'mean': 0.820435577731397, 'median': 0.8291715068027936, 'variance': 0.013956885304473086}\n"
     ]
    },
    {
     "data": {
      "image/png": "[encoded data removed]",
      "text/plain": [
       "<Figure size 432x288 with 1 Axes>"
      ]
     },
     "metadata": {
      "needs_background": "light"
     },
     "output_type": "display_data"
    },
    {
     "name": "stdout",
     "output_type": "stream",
     "text": [
      "Ttest_indResult(statistic=8.423366957638294, pvalue=1.5519599546029096e-16)\n"
     ]
    }
   ],
   "source": [
    "compare(reddit_lsms, wikipedia_lsms)"
   ]
  },
  {
   "cell_type": "markdown",
   "metadata": {},
   "source": [
    "# Symmetric: Reddit Reg vs. Wikipedia Reg"
   ]
  },
  {
   "cell_type": "code",
   "execution_count": 20,
   "metadata": {},
   "outputs": [
    {
     "name": "stdout",
     "output_type": "stream",
     "text": [
      "{'min': 0, 'max': 1.0, 'mean': 0.8107083375776624, 'median': 0.818353543268497, 'variance': 0.008641233241586345}\n"
     ]
    },
    {
     "data": {
      "image/png": "[encoded data removed]",
      "text/plain": [
       "<Figure size 432x288 with 1 Axes>"
      ]
     },
     "metadata": {
      "needs_background": "light"
     },
     "output_type": "display_data"
    },
    {
     "name": "stdout",
     "output_type": "stream",
     "text": [
      "{'min': 0, 'max': 1.0, 'mean': 0.8445888109287107, 'median': 0.8571476188888941, 'variance': 0.014416165060957485}\n"
     ]
    },
    {
     "data": {
      "image/png": "[encoded data removed]",
      "text/plain": [
       "<Figure size 432x288 with 1 Axes>"
      ]
     },
     "metadata": {
      "needs_background": "light"
     },
     "output_type": "display_data"
    },
    {
     "name": "stdout",
     "output_type": "stream",
     "text": [
      "Ttest_indResult(statistic=-5.083233507552061, pvalue=4.4593463550589747e-07)\n"
     ]
    }
   ],
   "source": [
    "compare(reddit_reg_lsms, wikipedia_reg_lsms)"
   ]
  },
  {
   "cell_type": "markdown",
   "metadata": {},
   "source": [
    "# Symmetric: Reddit Reg vs Reddit Awry"
   ]
  },
  {
   "cell_type": "code",
   "execution_count": 21,
   "metadata": {},
   "outputs": [
    {
     "name": "stdout",
     "output_type": "stream",
     "text": [
      "{'min': 0, 'max': 1.0, 'mean': 0.8107083375776624, 'median': 0.818353543268497, 'variance': 0.008641233241586345}\n"
     ]
    },
    {
     "data": {
      "image/png": "[encoded data removed]",
      "text/plain": [
       "<Figure size 432x288 with 1 Axes>"
      ]
     },
     "metadata": {
      "needs_background": "light"
     },
     "output_type": "display_data"
    },
    {
     "name": "stdout",
     "output_type": "stream",
     "text": [
      "{'min': 0, 'max': 1.0, 'mean': 0.8664833461986008, 'median': 0.8733367554574845, 'variance': 0.00681814042055069}\n"
     ]
    },
    {
     "data": {
      "image/png": "[encoded data removed]",
      "text/plain": [
       "<Figure size 432x288 with 1 Axes>"
      ]
     },
     "metadata": {
      "needs_background": "light"
     },
     "output_type": "display_data"
    },
    {
     "name": "stdout",
     "output_type": "stream",
     "text": [
      "Ttest_indResult(statistic=-11.939101397900892, pvalue=1.2167675784601517e-30)\n"
     ]
    }
   ],
   "source": [
    "compare(reddit_reg_lsms, reddit_lsms)"
   ]
  },
  {
   "cell_type": "markdown",
   "metadata": {},
   "source": [
    "# Symmetric: Wikipedia Reg vs. Wikipedia Awry"
   ]
  },
  {
   "cell_type": "code",
   "execution_count": 22,
   "metadata": {},
   "outputs": [
    {
     "name": "stdout",
     "output_type": "stream",
     "text": [
      "{'min': 0, 'max': 1.0, 'mean': 0.8445888109287107, 'median': 0.8571476188888941, 'variance': 0.014416165060957485}\n"
     ]
    },
    {
     "data": {
      "image/png": "[encoded data removed]",
      "text/plain": [
       "<Figure size 432x288 with 1 Axes>"
      ]
     },
     "metadata": {
      "needs_background": "light"
     },
     "output_type": "display_data"
    },
    {
     "name": "stdout",
     "output_type": "stream",
     "text": [
      "{'min': 0, 'max': 1.0, 'mean': 0.820435577731397, 'median': 0.8291715068027936, 'variance': 0.013956885304473086}\n"
     ]
    },
    {
     "data": {
      "image/png": "[encoded data removed]",
      "text/plain": [
       "<Figure size 432x288 with 1 Axes>"
      ]
     },
     "metadata": {
      "needs_background": "light"
     },
     "output_type": "display_data"
    },
    {
     "name": "stdout",
     "output_type": "stream",
     "text": [
      "Ttest_indResult(statistic=3.333954516841584, pvalue=0.0008857003317870818)\n"
     ]
    }
   ],
   "source": [
    "compare(wikipedia_reg_lsms, wikipedia_lsms)"
   ]
  },
  {
   "cell_type": "markdown",
   "metadata": {},
   "source": [
    "# Valence (so far only looked at awry corpora)"
   ]
  },
  {
   "cell_type": "code",
   "execution_count": 23,
   "metadata": {},
   "outputs": [],
   "source": [
    "with open('liwc_dic.pkl', 'rb') as handle:\n",
    "    liwc = pickle.load(handle)"
   ]
  },
  {
   "cell_type": "code",
   "execution_count": 24,
   "metadata": {},
   "outputs": [
    {
     "data": {
      "text/plain": [
       "607"
      ]
     },
     "execution_count": 24,
     "metadata": {},
     "output_type": "execute_result"
    }
   ],
   "source": [
    "len(liwc)"
   ]
  },
  {
   "cell_type": "code",
   "execution_count": 25,
   "metadata": {},
   "outputs": [
    {
     "name": "stdout",
     "output_type": "stream",
     "text": [
      "--2021-04-28 13:48:45--  https://raw.githubusercontent.com/fnielsen/afinn/master/afinn/data/AFINN-en-165.txt\n",
      "Resolving raw.githubusercontent.com... 185.199.111.133, 185.199.108.133, 185.199.110.133, ...\n",
      "Connecting to raw.githubusercontent.com|185.199.111.133|:443... connected.\n",
      "HTTP request sent, awaiting response... 200 OK\n",
      "Length: 39467 (39K) [text/plain]\n",
      "Saving to: ‘AFINN-en-165.txt’\n",
      "\n",
      "AFINN-en-165.txt    100%[===================>]  38.54K  --.-KB/s    in 0.004s  \n",
      "\n",
      "2021-04-28 13:48:46 (10.6 MB/s) - ‘AFINN-en-165.txt’ saved [39467/39467]\n",
      "\n"
     ]
    }
   ],
   "source": [
    "!wget https://raw.githubusercontent.com/fnielsen/afinn/master/afinn/data/AFINN-en-165.txt\n",
    "afinn_file = \"AFINN-en-165.txt\"\n",
    "\n",
    "afinn_dict = {}\n",
    "with open(afinn_file, encoding=\"utf8\") as file:\n",
    "    for line in file:\n",
    "        *word, value = line.split()\n",
    "        word = ' '.join(word)\n",
    "        afinn_dict[word] = int(value)"
   ]
  },
  {
   "cell_type": "code",
   "execution_count": 26,
   "metadata": {},
   "outputs": [],
   "source": [
    "afinns = []\n",
    "for r in reddit_results:\n",
    "    convo = reddit_awry_corpus.get_conversation(r['convID'])\n",
    "    path = convo.get_longest_paths()[0]\n",
    "    total = 0\n",
    "    for utt in path:\n",
    "        words = nltk.word_tokenize(utt.text) \n",
    "        afinn = 0\n",
    "        for word in words:\n",
    "            word = word.lower()\n",
    "            afinn += afinn_dict.get(word, 0)\n",
    "        total += afinn\n",
    "    afinns.append(total)"
   ]
  },
  {
   "cell_type": "code",
   "execution_count": 27,
   "metadata": {},
   "outputs": [
    {
     "name": "stdout",
     "output_type": "stream",
     "text": [
      "(-0.02085020628160327, 0.4677753952242734)\n"
     ]
    },
    {
     "data": {
      "text/plain": [
       "<matplotlib.collections.PathCollection at 0x23fd3b0d0>"
      ]
     },
     "execution_count": 27,
     "metadata": {},
     "output_type": "execute_result"
    },
    {
     "data": {
      "image/png": "[encoded data removed]",
      "text/plain": [
       "<Figure size 432x288 with 1 Axes>"
      ]
     },
     "metadata": {
      "needs_background": "light"
     },
     "output_type": "display_data"
    }
   ],
   "source": [
    "print(stats.pearsonr(afinns, reddit_lsms))\n",
    "plt.scatter(afinns, reddit_lsms)"
   ]
  },
  {
   "cell_type": "code",
   "execution_count": 28,
   "metadata": {},
   "outputs": [],
   "source": [
    "afinns = []\n",
    "for r in wikipedia_results:\n",
    "    convo = wiki_awry_corpus.get_conversation(r['convID'])\n",
    "    path = convo.get_longest_paths()[0]\n",
    "    total = 0\n",
    "    for utt in path:\n",
    "        words = nltk.word_tokenize(utt.text) \n",
    "        afinn = 0\n",
    "        for word in words:\n",
    "            word = word.lower()\n",
    "            afinn += afinn_dict.get(word, 0)\n",
    "        total += afinn\n",
    "    afinns.append(total)"
   ]
  },
  {
   "cell_type": "code",
   "execution_count": 29,
   "metadata": {},
   "outputs": [
    {
     "name": "stdout",
     "output_type": "stream",
     "text": [
      "(0.049982286958678915, 0.23143400946355605)\n"
     ]
    },
    {
     "data": {
      "text/plain": [
       "<matplotlib.collections.PathCollection at 0x2456cbaf0>"
      ]
     },
     "execution_count": 29,
     "metadata": {},
     "output_type": "execute_result"
    },
    {
     "data": {
      "image/png": "[encoded data removed]",
      "text/plain": [
       "<Figure size 432x288 with 1 Axes>"
      ]
     },
     "metadata": {
      "needs_background": "light"
     },
     "output_type": "display_data"
    }
   ],
   "source": [
    "print(stats.pearsonr(afinns, wikipedia_lsms))\n",
    "plt.scatter(afinns, wikipedia_lsms)"
   ]
  },
  {
   "cell_type": "code",
   "execution_count": 30,
   "metadata": {},
   "outputs": [],
   "source": [
    "with open('liwc_dic_valence.pkl', 'rb') as handle:\n",
    "    liwc_valence = pickle.load(handle)"
   ]
  },
  {
   "cell_type": "code",
   "execution_count": 31,
   "metadata": {},
   "outputs": [],
   "source": [
    "affects = []\n",
    "for r in reddit_results:\n",
    "    convo = reddit_awry_corpus.get_conversation(r['convID'])\n",
    "    path = convo.get_longest_paths()[0]\n",
    "    total = 0\n",
    "    for utt in path:\n",
    "        words = nltk.word_tokenize(utt.text) \n",
    "        affect = 0\n",
    "        for word in words:\n",
    "            if word in liwc_valence:\n",
    "                affect += 1\n",
    "        total += affect\n",
    "    affects.append(total)"
   ]
  },
  {
   "cell_type": "code",
   "execution_count": 32,
   "metadata": {},
   "outputs": [
    {
     "name": "stdout",
     "output_type": "stream",
     "text": [
      "(0.18806272566294754, 3.90682657315824e-11)\n"
     ]
    },
    {
     "data": {
      "text/plain": [
       "<matplotlib.collections.PathCollection at 0x24527eca0>"
      ]
     },
     "execution_count": 32,
     "metadata": {},
     "output_type": "execute_result"
    },
    {
     "data": {
      "image/png": "[encoded data removed]",
      "text/plain": [
       "<Figure size 432x288 with 1 Axes>"
      ]
     },
     "metadata": {
      "needs_background": "light"
     },
     "output_type": "display_data"
    }
   ],
   "source": [
    "print(stats.pearsonr(affects, reddit_lsms))\n",
    "plt.scatter(affects, reddit_lsms)"
   ]
  },
  {
   "cell_type": "code",
   "execution_count": 33,
   "metadata": {},
   "outputs": [],
   "source": [
    "valences1 = []\n",
    "for r in reddit_results:\n",
    "    convo = reddit_awry_corpus.get_conversation(r['convID'])\n",
    "    path = convo.get_longest_paths()[0]\n",
    "    total = 0\n",
    "    for utt in path:\n",
    "        words = nltk.word_tokenize(utt.text) \n",
    "        valence = 0\n",
    "        for word in words:\n",
    "            if word in liwc_valence:\n",
    "                if liwc_valence[word] == 'posemo':\n",
    "                    valence += 1\n",
    "                elif liwc_valence[word] == 'affect':\n",
    "                    continue\n",
    "                else:\n",
    "                    valence -=1\n",
    "        total += valence\n",
    "    valences1.append(total)"
   ]
  },
  {
   "cell_type": "code",
   "execution_count": 34,
   "metadata": {},
   "outputs": [
    {
     "name": "stdout",
     "output_type": "stream",
     "text": [
      "(0.1731322210513882, 1.2432753966515423e-09)\n"
     ]
    },
    {
     "data": {
      "text/plain": [
       "<matplotlib.collections.PathCollection at 0x22ad37f70>"
      ]
     },
     "execution_count": 34,
     "metadata": {},
     "output_type": "execute_result"
    },
    {
     "data": {
      "image/png": "[encoded data removed]",
      "text/plain": [
       "<Figure size 432x288 with 1 Axes>"
      ]
     },
     "metadata": {
      "needs_background": "light"
     },
     "output_type": "display_data"
    }
   ],
   "source": [
    "print(stats.pearsonr(valences1, reddit_lsms))\n",
    "plt.scatter(valences1, reddit_lsms)"
   ]
  },
  {
   "cell_type": "code",
   "execution_count": 35,
   "metadata": {},
   "outputs": [],
   "source": [
    "affects = []\n",
    "for r in wikipedia_results:\n",
    "    convo = wiki_awry_corpus.get_conversation(r['convID'])\n",
    "    path = convo.get_longest_paths()[0]\n",
    "    total = 0\n",
    "    for utt in path:\n",
    "        words = nltk.word_tokenize(utt.text) \n",
    "        affect = 0\n",
    "        for word in words:\n",
    "            if word in liwc_valence:\n",
    "                affect += 1\n",
    "        total += affect\n",
    "    affects.append(total)"
   ]
  },
  {
   "cell_type": "code",
   "execution_count": 36,
   "metadata": {},
   "outputs": [
    {
     "name": "stdout",
     "output_type": "stream",
     "text": [
      "(0.11547925393412727, 0.0055653226225537665)\n"
     ]
    },
    {
     "data": {
      "text/plain": [
       "<matplotlib.collections.PathCollection at 0x22db85310>"
      ]
     },
     "execution_count": 36,
     "metadata": {},
     "output_type": "execute_result"
    },
    {
     "data": {
      "image/png": "[encoded data removed]",
      "text/plain": [
       "<Figure size 432x288 with 1 Axes>"
      ]
     },
     "metadata": {
      "needs_background": "light"
     },
     "output_type": "display_data"
    }
   ],
   "source": [
    "print(stats.pearsonr(affects, wikipedia_lsms))\n",
    "plt.scatter(affects, wikipedia_lsms)"
   ]
  },
  {
   "cell_type": "code",
   "execution_count": 37,
   "metadata": {},
   "outputs": [],
   "source": [
    "valences2 = []\n",
    "for r in wikipedia_results:\n",
    "    convo = wiki_awry_corpus.get_conversation(r['convID'])\n",
    "    path = convo.get_longest_paths()[0]\n",
    "    total = 0\n",
    "    for utt in path:\n",
    "        words = nltk.word_tokenize(utt.text) \n",
    "        valence = 0\n",
    "        for word in words:\n",
    "            if word in liwc_valence:\n",
    "                if liwc_valence[word] == 'posemo':\n",
    "                    valence += 1\n",
    "                elif liwc_valence[word] == 'affect':\n",
    "                    continue\n",
    "                else:\n",
    "                    valence -=1\n",
    "        total += valence\n",
    "    valences2.append(total)"
   ]
  },
  {
   "cell_type": "code",
   "execution_count": 38,
   "metadata": {},
   "outputs": [
    {
     "name": "stdout",
     "output_type": "stream",
     "text": [
      "(0.08756089251171784, 0.03580804525644762)\n"
     ]
    },
    {
     "data": {
      "text/plain": [
       "<matplotlib.collections.PathCollection at 0x22f007610>"
      ]
     },
     "execution_count": 38,
     "metadata": {},
     "output_type": "execute_result"
    },
    {
     "data": {
      "image/png": "[encoded data removed]",
      "text/plain": [
       "<Figure size 432x288 with 1 Axes>"
      ]
     },
     "metadata": {
      "needs_background": "light"
     },
     "output_type": "display_data"
    }
   ],
   "source": [
    "print(stats.pearsonr(valences2, wikipedia_lsms))\n",
    "plt.scatter(valences2, wikipedia_lsms)"
   ]
  },
  {
   "cell_type": "code",
   "execution_count": 39,
   "metadata": {},
   "outputs": [
    {
     "name": "stdout",
     "output_type": "stream",
     "text": [
      "(0.17164476585286242, 2.646394083009808e-13)\n"
     ]
    },
    {
     "data": {
      "text/plain": [
       "<matplotlib.collections.PathCollection at 0x230a0cd90>"
      ]
     },
     "execution_count": 39,
     "metadata": {},
     "output_type": "execute_result"
    },
    {
     "data": {
      "image/png": "[encoded data removed]",
      "text/plain": [
       "<Figure size 432x288 with 1 Axes>"
      ]
     },
     "metadata": {
      "needs_background": "light"
     },
     "output_type": "display_data"
    }
   ],
   "source": [
    "print(stats.pearsonr(valences1 + valences2, reddit_lsms + wikipedia_lsms))\n",
    "plt.scatter(valences1 + valences2, reddit_lsms + wikipedia_lsms)"
   ]
  },
  {
   "cell_type": "code",
   "execution_count": 40,
   "metadata": {},
   "outputs": [
    {
     "data": {
      "text/plain": [
       "Conversation({'obj_type': 'conversation', 'meta': {'page_title': 'User talk:Hrafn', 'page_id': 10374546, 'pair_id': '193565323.8199.8199', 'conversation_has_personal_attack': True, 'verified': True, 'pair_verified': True, 'annotation_year': '2018', 'split': 'train'}, 'vectors': [], 'tree': <convokit.model.utteranceNode.UtteranceNode object at 0x245848580>, 'owner': <convokit.model.corpus.Corpus object at 0x1063d2280>, 'id': '193002106.7341.7341'})"
      ]
     },
     "execution_count": 40,
     "metadata": {},
     "output_type": "execute_result"
    }
   ],
   "source": [
    "wiki_awry_corpus.get_conversation(wikipedia_results[1]['convID'])"
   ]
  }
 ],
 "metadata": {
  "kernelspec": {
   "display_name": "Python 3",
   "language": "python",
   "name": "python3"
  },
  "language_info": {
   "codemirror_mode": {
    "name": "ipython",
    "version": 3
   },
   "file_extension": ".py",
   "mimetype": "text/x-python",
   "name": "python",
   "nbconvert_exporter": "python",
   "pygments_lexer": "ipython3",
   "version": "3.8.5"
  }
 },
 "nbformat": 4,
 "nbformat_minor": 4
}
