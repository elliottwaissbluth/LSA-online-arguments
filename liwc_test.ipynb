{
 "metadata": {
  "language_info": {
   "codemirror_mode": {
    "name": "ipython",
    "version": 3
   },
   "file_extension": ".py",
   "mimetype": "text/x-python",
   "name": "python",
   "nbconvert_exporter": "python",
   "pygments_lexer": "ipython3",
   "version": "3.8.6-final"
  },
  "orig_nbformat": 2,
  "kernelspec": {
   "name": "python3",
   "display_name": "Python 3.8.6 64-bit",
   "metadata": {
    "interpreter": {
     "hash": "1131efc7635b497546d7e8fbc76ad9d1f9d5d5d7857bcde935d6feea39d08984"
    }
   }
  }
 },
 "nbformat": 4,
 "nbformat_minor": 2,
 "cells": [
  {
   "cell_type": "code",
   "execution_count": 26,
   "metadata": {},
   "outputs": [],
   "source": [
    "dic= open('X:\\LIWC dictionaries\\LIWC2007_English100131.dic', 'r')\n",
    "\n",
    "i = 0\n",
    "categories = {}\n",
    "\n",
    "for line in dic:\n",
    "    l = line.strip('\\n')\n",
    "    l = l.split('\\t')\n",
    "    if l[0] == '%':\n",
    "        i += 1\n",
    "        if i > 1:\n",
    "            break\n",
    "        continue\n",
    "    categories[l[0]] = l[1]\n",
    "dic.close()"
   ]
  },
  {
   "source": [
    "Create LIWC dictionary"
   ],
   "cell_type": "markdown",
   "metadata": {}
  },
  {
   "cell_type": "code",
   "execution_count": 27,
   "metadata": {},
   "outputs": [
    {
     "output_type": "stream",
     "name": "stdout",
     "text": [
      "{'1': 'funct', '2': 'pronoun', '3': 'ppron', '4': 'i', '5': 'we', '6': 'you', '7': 'shehe', '8': 'they', '9': 'ipron', '10': 'article', '11': 'verb', '12': 'auxverb', '13': 'past', '14': 'present', '15': 'future', '16': 'adverb', '17': 'preps', '18': 'conj', '19': 'negate', '20': 'quant', '21': 'number', '22': 'swear', '121': 'social', '122': 'family', '123': 'friend', '124': 'humans', '125': 'affect', '126': 'posemo', '127': 'negemo', '128': 'anx', '129': 'anger', '130': 'sad', '131': 'cogmech', '132': 'insight', '133': 'cause', '134': 'discrep', '135': 'tentat', '136': 'certain', '137': 'inhib', '138': 'incl', '139': 'excl', '140': 'percept', '141': 'see', '142': 'hear', '143': 'feel', '146': 'bio', '147': 'body', '148': 'health', '149': 'sexual', '150': 'ingest', '250': 'relativ', '251': 'motion', '252': 'space', '253': 'time', '354': 'work', '355': 'achieve', '356': 'leisure', '357': 'home', '358': 'money', '359': 'relig', '360': 'death', '462': 'assent', '463': 'nonfl', '464': 'filler'}\n"
     ]
    }
   ],
   "source": [
    "print(categories)"
   ]
  },
  {
   "cell_type": "code",
   "execution_count": 35,
   "metadata": {},
   "outputs": [
    {
     "output_type": "stream",
     "name": "stdout",
     "text": [
      "{'4': 'ppron', '10': 'ipron', '11': 'article', '13': 'auxverb', '19': 'conj', '18': 'prep', '17': 'adverb', '20': 'negate', '21': 'quant'}\n"
     ]
    }
   ],
   "source": [
    "cats = {'4' : 'ppron',\n",
    "        '10' : 'ipron',\n",
    "        '11' : 'article',\n",
    "        '13' : 'auxverb',\n",
    "        '19' : 'conj',\n",
    "        '18' : 'prep',\n",
    "        '17' : 'adverb',\n",
    "        '20' : 'negate',\n",
    "        '21' : 'quant'\n",
    "    }\n",
    "\n",
    "print(cats)"
   ]
  },
  {
   "cell_type": "code",
   "execution_count": 44,
   "metadata": {},
   "outputs": [
    {
     "output_type": "stream",
     "name": "stdout",
     "text": [
      "{'a': 'ipron', 'about': 'adverb', 'above': 'adverb', 'accepted': 'auxverb', 'across': 'adverb', 'admit': 'article', 'admits': 'article', 'admitted': 'auxverb', 'affected': 'auxverb', 'after': 'adverb', 'against': 'adverb', 'ahead': 'adverb', \"ain't\": 'conj', 'aint': 'conj', 'all': 'negate', 'allot': 'negate', 'along': 'adverb', 'alot': 'negate', 'also': 'prep', 'although': 'prep', 'am': 'article', 'among*': 'adverb', 'amount*': 'negate', 'an': 'ipron', 'and': 'prep', 'another': 'negate', 'any': 'negate', 'anymore': 'negate', 'appear': 'article', 'appeared': 'auxverb', 'appears': 'article', 'are': 'article', \"aren't\": 'conj', 'arent': 'conj', 'around': 'adverb', 'arrive': 'article', 'arrived': 'auxverb', 'arrives': 'article', 'as': 'prep', 'ask': 'article', 'asked': 'auxverb', 'asks': 'article', 'at': 'adverb', 'ate': 'auxverb', 'atho': 'prep', 'atop': 'adverb', 'away': 'adverb', 'be': 'article', 'became': 'auxverb', 'because': 'prep', 'become': 'article', 'becomes': 'article', 'becoming': 'article', 'been': 'auxverb', 'before': 'adverb', 'began': 'auxverb', 'begin': 'article', 'begins': 'article', 'behind': 'adverb', 'being': 'article', 'believe': 'article', 'believed': 'auxverb', 'believes': 'article', 'below': 'adverb', 'beneath': 'adverb', 'beside': 'adverb', 'besides': 'negate', 'best': 'negate', 'between': 'adverb', 'beyond': 'adverb', 'billion*': 'quant', 'bit': 'negate', 'bits': 'negate', 'both': 'negate', 'bought': 'auxverb', 'bring': 'article', 'brings': 'article', 'brought': 'auxverb', 'bunch': 'negate', 'but': 'prep', 'by': 'adverb', 'called': 'auxverb', 'came': 'auxverb', 'can': 'article', \"can't\": 'conj', 'cannot': 'conj', 'cant': 'conj', 'care': 'article', 'cared': 'auxverb', 'cares': 'article', 'carried': 'auxverb', 'carries': 'article', 'carry': 'article', 'caught': 'auxverb', 'cetera': 'negate', 'changed': 'auxverb', 'come': 'article', 'comes': 'article', 'could': 'article', \"could've\": 'auxverb', \"couldn't\": 'conj', 'couldnt': 'conj', 'couldve': 'auxverb', 'couple': 'negate', 'cried': 'auxverb', 'cuz': 'prep', 'depended': 'auxverb', 'depends': 'article', 'describe': 'article', 'described': 'auxverb', 'describes': 'article', 'despite': 'adverb', 'did': 'auxverb', \"didn't\": 'conj', 'didnt': 'conj', 'died': 'auxverb', 'dies': 'article', 'difference*': 'negate', 'dislike': 'article', 'disliked': 'auxverb', 'dislikes': 'article', 'do': 'article', 'does': 'article', \"doesn't\": 'conj', 'doesnt': 'conj', 'doing': 'article', \"don't\": 'conj', 'done': 'auxverb', 'dont': 'conj', 'doubl*': 'negate', 'down': 'adverb', 'dozen*': 'quant', 'drank': 'auxverb', 'driven': 'auxverb', 'drove': 'auxverb', 'during': 'adverb', 'each': 'negate', 'eaten': 'auxverb', 'eight*': 'quant', 'either': 'negate', 'eleven': 'quant', 'else': 'negate', 'emailed': 'auxverb', 'ended': 'auxverb', 'enough': 'negate', 'entered': 'auxverb', 'entire*': 'negate', 'equal*': 'negate', 'etc': 'negate', 'every': 'negate', 'example*': 'negate', 'except': 'adverb', 'explain': 'article', 'explained': 'auxverb', 'explains': 'article', 'extent': 'negate', 'extra': 'negate', 'extremely': 'negate', 'fairly': 'negate', 'fed': 'auxverb', 'feel': 'article', 'feels': 'article', 'felt': 'auxverb', 'few*': 'negate', 'fift*': 'quant', 'first': 'quant', 'firstly': 'quant', 'firsts': 'quant', 'five': 'quant', 'fled': 'auxverb', 'flew': 'auxverb', 'follow': 'article', 'followed': 'auxverb', 'follows': 'article', 'for': 'adverb', 'forgot*': 'auxverb', 'form': 'negate', 'fought': 'auxverb', 'found': 'auxverb', 'four*': 'quant', 'from': 'adverb', 'fuck': 'article', 'fucked*': 'auxverb', 'fucks': 'article', 'full*': 'negate', 'gave': 'auxverb', 'get': 'article', 'gets': 'article', 'give': 'article', 'given': 'auxverb', 'gives': 'article', 'go': 'article', 'goes': 'article', 'gone': 'auxverb', 'gonna': 'article', 'got': 'auxverb', 'gotta': 'article', 'gotten': 'auxverb', 'greater': 'negate', 'greatest': 'negate', 'guess': 'article', 'guessed': 'auxverb', 'guesses': 'article', 'had': 'auxverb', \"hadn't\": 'conj', 'hadnt': 'conj', 'half': 'quant', 'happen': 'article', 'happened': 'auxverb', 'happens': 'article', 'has': 'article', \"hasn't\": 'conj', 'hasnt': 'conj', 'hate': 'article', 'hated': 'auxverb', 'hates': 'article', 'have': 'article', \"haven't\": 'conj', 'havent': 'conj', 'having': 'article', \"he'd\": 'article', \"he'll\": 'article', \"he's\": 'article', 'hear': 'article', 'heard': 'auxverb', 'hears': 'article', 'hed': 'article', 'held': 'auxverb', 'helped': 'auxverb', 'helps': 'article', \"here's\": 'article', 'heres': 'article', 'hes': 'article', 'highly': 'negate', 'hope': 'article', 'hoped': 'auxverb', 'hopes': 'article', 'how': 'prep', \"how's\": 'article', 'however': 'prep', 'hows': 'article', 'hundred*': 'quant', 'i': 'ppron', \"i'd\": 'article', \"i'll\": 'article', \"i'm\": 'article', \"i've\": 'article', 'id': 'article', 'if': 'prep', 'im': 'article', 'in': 'adverb', 'increas*': 'negate', 'infinit*': 'quant', 'inside': 'adverb', 'insides': 'adverb', 'into': 'adverb', 'is': 'article', \"isn't\": 'conj', 'isnt': 'conj', \"it'd\": 'article', \"it'll\": 'article', \"it's\": 'article', 'itd': 'article', 'item*': 'negate', 'itll': 'article', 'ive': 'article', 'keep': 'article', 'keeps': 'article', 'kept': 'auxverb', 'knew': 'auxverb', 'know': 'article', 'knows': 'article', 'lack*': 'negate', 'least': 'negate', 'less': 'negate', 'let': 'article', \"let's\": 'article', 'lets': 'article', 'lied': 'auxverb', 'liked': 'auxverb', 'listen': 'article', 'listened': 'auxverb', 'listens': 'article', 'lived': 'auxverb', 'loads': 'negate', 'look': 'article', 'looked': 'auxverb', 'looks': 'article', 'lost': 'auxverb', 'lot': 'negate', 'lotof': 'negate', 'lots': 'negate', 'lotsa': 'negate', 'lotta': 'negate', 'love': 'article', 'loved': 'auxverb', 'loves': 'article', 'made': 'auxverb', 'main': 'negate', 'major': 'negate', 'majority': 'negate', 'make': 'article', 'makes': 'article', 'many': 'negate', 'may': 'article', 'me': 'ppron', 'mean': 'article', 'means': 'article', 'meant': 'auxverb', 'met': 'auxverb', 'might': 'article', \"might've\": 'article', 'mightve': 'article', 'million*': 'quant', 'mine': 'ppron', 'miss': 'article', 'missed': 'auxverb', 'misses': 'article', 'more': 'negate', 'most': 'negate', 'moved': 'auxverb', 'much': 'negate', 'mucho': 'negate', 'must': 'article', \"must'nt\": 'conj', \"must've\": 'auxverb', \"mustn't\": 'conj', 'mustnt': 'conj', 'mustve': 'auxverb', 'my': 'ppron', 'myself': 'ppron', 'near': 'adverb', 'need': 'article', \"need'nt\": 'conj', 'needed': 'auxverb', \"needn't\": 'conj', 'neednt': 'conj', 'needs': 'article', 'negat*': 'conj', 'neither': 'negate', 'never': 'conj', 'nine*': 'quant', 'no': 'conj', 'nobod*': 'conj', 'none': 'negate', 'nope': 'conj', 'nor': 'conj', 'not': 'conj', 'nothing': 'conj', 'nowhere': 'conj', 'of': 'adverb', 'off': 'adverb', 'on': 'adverb', 'once': 'quant', 'one': 'quant', 'ones': 'negate', 'onto': 'adverb', 'or': 'prep', 'otherwise': 'prep', 'ought': 'article', \"ought'nt\": 'conj', \"ought've\": 'article', 'oughta': 'article', \"oughtn't\": 'conj', 'oughtnt': 'conj', 'oughtve': 'article', 'out': 'adverb', 'outside': 'adverb', 'over': 'adverb', 'owe': 'article', 'owed': 'auxverb', 'owes': 'article', 'own': 'negate', 'page': 'negate', 'paid': 'auxverb', 'part': 'negate', 'partly': 'negate', 'percent': 'negate', 'piec*': 'negate', 'played': 'auxverb', 'plenty': 'negate', 'plus': 'prep', 'portion': 'negate', 'quarter*': 'quant', 'ran': 'auxverb', 'remaining': 'negate', 'rest': 'negate', 'said': 'auxverb', 'same': 'negate', 'sat': 'auxverb', 'saw': 'auxverb', 'second': 'quant', 'section': 'negate', 'see': 'article', 'seem': 'article', 'seemed': 'auxverb', 'seems': 'article', 'seen': 'auxverb', 'sees': 'article', 'segment': 'negate', 'selection': 'negate', 'sensed': 'auxverb', 'sent': 'auxverb', 'series': 'negate', 'seven*': 'quant', 'several': 'negate', 'shall': 'article', \"shan't\": 'conj', 'shant': 'conj', 'shared': 'auxverb', \"she'd\": 'article', \"she'll\": 'article', \"she's\": 'article', 'shes': 'article', 'should': 'article', \"should'nt\": 'conj', \"should've\": 'auxverb', \"shouldn't\": 'conj', 'shouldnt': 'conj', 'shouldve': 'auxverb', 'showed': 'auxverb', 'significant': 'negate', 'simple*': 'negate', 'since': 'adverb', 'singl*': 'negate', 'six*': 'quant', 'slept': 'auxverb', 'so': 'prep', 'sold': 'auxverb', 'some': 'negate', 'somewhat': 'negate', 'spent': 'auxverb', 'spoke*': 'auxverb', 'start': 'article', 'started': 'auxverb', 'starts': 'article', 'stayed': 'auxverb', 'stood': 'auxverb', 'stopped': 'auxverb', 'stuck': 'auxverb', 'studied': 'auxverb', 'suck': 'article', 'sucked': 'auxverb', 'sucks': 'article', 'suffered': 'auxverb', 'support': 'article', 'supported': 'auxverb', 'supports': 'article', 'suppose': 'article', 'supposed': 'auxverb', 'supposes': 'article', 'take': 'article', 'taken': 'auxverb', 'takes': 'article', 'taking': 'article', 'talked': 'auxverb', 'taught': 'auxverb', 'ten': 'quant', 'tend': 'article', 'tended': 'auxverb', 'tends': 'article', 'tenth': 'quant', 'term': 'negate', 'than': 'adverb', 'thank': 'article', 'thanked': 'auxverb', 'thanks': 'article', \"that'd\": 'article', \"that'll\": 'article', \"that's\": 'article', 'thatd': 'article', 'thatll': 'article', 'thats': 'article', 'the': 'ipron', 'then': 'prep', \"there's\": 'article', 'theres': 'article', \"they'd\": 'article', \"they'll\": 'article', \"they're\": 'article', \"they've\": 'article', 'theyd': 'article', 'theyll': 'article', 'theyre': 'article', 'theyve': 'article', 'think': 'article', 'thinks': 'article', 'third': 'quant', 'thirt*': 'quant', 'tho': 'prep', 'though': 'prep', 'thought': 'auxverb', 'thousand*': 'quant', 'three': 'quant', 'threw': 'auxverb', 'through*': 'adverb', 'thru': 'adverb', 'til': 'prep', 'till': 'prep', 'to': 'adverb', 'told': 'auxverb', 'ton': 'negate', 'tons': 'negate', 'took': 'auxverb', 'total': 'negate', 'toward*': 'adverb', 'tried': 'auxverb', 'tries': 'article', 'trillion*': 'quant', 'tripl*': 'negate', 'try': 'article', 'turn': 'article', 'turned': 'auxverb', 'turns': 'article', 'twel*': 'quant', 'twent*': 'quant', 'twice': 'quant', 'two': 'quant', 'uhuh': 'conj', 'under': 'adverb', 'underneath': 'adverb', 'understand': 'article', 'understands': 'article', 'understood': 'auxverb', 'unique': 'negate', 'unless': 'prep', 'until': 'prep', 'unto': 'adverb', 'up': 'adverb', 'upon': 'adverb', 'use': 'article', 'used': 'auxverb', 'uses': 'article', 'using': 'article', 'various': 'negate', 'version*': 'negate', 'viewed': 'auxverb', 'wait': 'article', 'waited': 'auxverb', 'waits': 'article', 'walked': 'auxverb', 'wanna': 'adverb', 'want': 'article', 'wanted': 'auxverb', 'wants': 'article', 'was': 'auxverb', \"wasn't\": 'conj', 'wasnt': 'conj', \"we'd\": 'article', \"we'll\": 'article', \"we're\": 'article', \"we've\": 'auxverb', 'went': 'auxverb', 'were': 'auxverb', \"weren't\": 'conj', 'weve': 'auxverb', \"what's\": 'article', 'whats': 'article', 'when': 'prep', 'whenever': 'prep', \"where's\": 'article', 'whereas': 'prep', 'wheres': 'article', 'whether': 'prep', 'while': 'prep', \"who'd\": 'article', \"who'll\": 'article', \"who's\": 'article', 'whod': 'article', 'whole': 'negate', 'wholl': 'article', 'whos': 'article', 'will': 'article', 'wish': 'article', 'wished': 'auxverb', 'wishes': 'article', 'with': 'adverb', 'within': 'adverb', 'without': 'conj', 'woke': 'auxverb', 'woken': 'auxverb', 'won': 'auxverb', \"won't\": 'conj', 'wonder': 'article', 'wondered': 'auxverb', 'wont': 'conj', 'wore': 'auxverb', 'worked': 'auxverb', 'worn': 'auxverb', 'worst': 'negate', 'would': 'article', \"would've\": 'auxverb', \"wouldn't\": 'conj', 'wouldnt': 'conj', 'wouldve': 'auxverb', 'written': 'auxverb', 'wrote': 'auxverb', \"you'd\": 'article', \"you'll\": 'article', \"you're\": 'article', \"you've\": 'article', 'youd': 'article', 'youll': 'article', 'youre': 'article', 'youve': 'article', 'zero': 'quant', 'zillion*': 'quant'}\n"
     ]
    }
   ],
   "source": [
    "dic= open('X:\\LIWC dictionaries\\LIWC2007_English100131.dic', 'r')\n",
    "\n",
    "liwc_dic = {}\n",
    "\n",
    "i = 0\n",
    "for line in dic:\n",
    "    l = line.strip('\\n')\n",
    "    l = l.split('\\t')\n",
    "    if l[0] == '%':\n",
    "        i += 1\n",
    "    if i < 2:\n",
    "        continue\n",
    "    if l[0] != '%':\n",
    "        if any(x in l for x in cats.keys()):\n",
    "            for x in l:\n",
    "                if x in cats.keys():\n",
    "                    liwc_dic[l[0]] = cats[x]\n",
    "\n",
    "print(liwc_dic)\n",
    "\n",
    "dic.close()"
   ]
  },
  {
   "cell_type": "code",
   "execution_count": 45,
   "metadata": {},
   "outputs": [],
   "source": [
    "import pickle\n",
    "\n",
    "with open('liwc_dic.pkl', 'wb') as handle:\n",
    "    pickle.dump(liwc_dic, handle, protocol=pickle.HIGHEST_PROTOCOL)"
   ]
  }
 ]
}