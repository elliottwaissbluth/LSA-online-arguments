{
 "cells": [
  {
   "cell_type": "markdown",
   "metadata": {},
   "source": [
    "# EDA"
   ]
  },
  {
   "cell_type": "code",
   "execution_count": 1,
   "metadata": {},
   "outputs": [],
   "source": [
    "import numpy as np\n",
    "import pandas as pd\n",
    "import matplotlib.pyplot as plt\n",
    "\n",
    "from statistics import mode\n",
    "from better_profanity import profanity"
   ]
  },
  {
   "cell_type": "code",
   "execution_count": 2,
   "metadata": {},
   "outputs": [
    {
     "name": "stdout",
     "output_type": "stream",
     "text": [
      "Dataset already exists at /Users/administrator/.convokit/downloads/conversations-gone-awry-corpus\n",
      "Dataset already exists at /Users/administrator/.convokit/downloads/wiki-corpus\n",
      "Dataset already exists at /Users/administrator/.convokit/downloads/reddit-corpus-small\n",
      "Dataset already exists at /Users/administrator/.convokit/downloads/conversations-gone-awry-cmv-corpus\n"
     ]
    }
   ],
   "source": [
    "from convokit import Corpus, download\n",
    "wiki_awry_corpus = Corpus(filename=download('conversations-gone-awry-corpus'))\n",
    "wiki_talk_corpus = Corpus(filename=download('wiki-corpus'))\n",
    "reddit_corpus = Corpus(filename=download(\"reddit-corpus-small\"))\n",
    "reddit_awry_corpus = Corpus(filename=download(\"conversations-gone-awry-cmv-corpus\"))"
   ]
  },
  {
   "cell_type": "code",
   "execution_count": 3,
   "metadata": {},
   "outputs": [
    {
     "name": "stdout",
     "output_type": "stream",
     "text": [
      "SUMMARIES\n",
      "--------------\n",
      "WIKIPEDIA TALK PAGES CORPUS\n",
      "Number of Speakers: 38462\n",
      "Number of Utterances: 391294\n",
      "Number of Conversations: 125292\n",
      "--------------\n",
      "WIKIPEDIA - CONVERSATIONS GONE AWRY CORPUS\n",
      "Number of Speakers: 8069\n",
      "Number of Utterances: 30021\n",
      "Number of Conversations: 4188\n",
      "--------------\n",
      "REDDIT CORPUS\n",
      "Number of Speakers: 119889\n",
      "Number of Utterances: 297132\n",
      "Number of Conversations: 8286\n",
      "--------------\n",
      "REDDIT - CONVERSATIONS GONE AWRY CORPUS\n",
      "Number of Speakers: 9548\n",
      "Number of Utterances: 42964\n",
      "Number of Conversations: 6842\n"
     ]
    }
   ],
   "source": [
    "corpora = {\n",
    "  'wiki_talk': wiki_talk_corpus,\n",
    "  'wiki_awry': wiki_awry_corpus,\n",
    "  'reddit': reddit_corpus,\n",
    "  'reddit_awry': reddit_awry_corpus\n",
    "}\n",
    "\n",
    "print('SUMMARIES')\n",
    "print('--------------')\n",
    "print('WIKIPEDIA TALK PAGES CORPUS')\n",
    "wiki_talk_corpus.print_summary_stats()\n",
    "print('--------------')\n",
    "\n",
    "print('WIKIPEDIA - CONVERSATIONS GONE AWRY CORPUS')\n",
    "wiki_awry_corpus.print_summary_stats()\n",
    "print('--------------')\n",
    "\n",
    "print('REDDIT CORPUS')\n",
    "reddit_corpus.print_summary_stats()\n",
    "print('--------------')\n",
    "\n",
    "print('REDDIT - CONVERSATIONS GONE AWRY CORPUS')\n",
    "reddit_awry_corpus.print_summary_stats()"
   ]
  },
  {
   "cell_type": "markdown",
   "metadata": {},
   "source": [
    "## Conversation features\n",
    "\n",
    "- **id**: id of the conversation\n",
    "- **utterances**: ids of utterances in the conversation (in order I presume)\n",
    "- **meta**: conversation metadata\n",
    "    - **page_title**: title of page under which conversation is occurring\n",
    "    - **page_id**: unique numerical id of the talk page\n",
    "    - **pair_id**: the id of the conversation that this comment's conversation is paired with\n",
    "    - **conversation_has_personal_attack**: whether any comment in this comment's conversation contains a personal attack\n",
    "    - **verified**: whether the personal attack label has been verified by an internal annotator\n",
    "    - **pair_verified**: whether the personal attack label has been double checked by the internal annotator\n",
    "    - **annotation_year**: self explanatory\n",
    "    - **split**: (train, test, or val) whether this conversation was used as train, test, or val in \"Trouble on the Horizon\"\n"
   ]
  },
  {
   "cell_type": "markdown",
   "metadata": {},
   "source": [
    "## Utterance features\n",
    "- **id**: index of the utterance\n",
    "- **conversation_id**: id of the first utterance in the converstaion this utterance belongs to\n",
    "- **reply-to**: index of the utterance to which this utterance replies to (None if not a reply)\n",
    "- **speaker**: the speaker who authored the utterance\n",
    "- **timestamp**: timestamp of utterance\n",
    "- **text**: textual content of the utterance\n",
    "- **meta**: metadata for each utterance\n",
    "    - **is_section_header**: whether the utterance is a conversation \"title\" or \"subject\" (if true, the utterance should be ignored)\n",
    "    - **comment_has_personal_attack**: whether this comment was judged by 3 crowdsourced annotators to contain a personal comment_has_personal_attack\n",
    "    - **parsed**: SpaCy parsed version of the utterance text\n",
    "        - **rt**: ??\n",
    "        - **toks**: List of parsed tokens\n",
    "            - **tok**: the token (word, punctuation, etc.)\n",
    "            - **tag**: Detailed part of speech tag\n",
    "            - **dep**: syntactic dependency, i.e. the relation between the tokens\n",
    "            - **up**: list related to dn, not sure how\n",
    "            - **dn**: list related to up, not sure how"
   ]
  },
  {
   "cell_type": "markdown",
   "metadata": {},
   "source": [
    "## Structure of Convos"
   ]
  },
  {
   "cell_type": "code",
   "execution_count": 4,
   "metadata": {},
   "outputs": [
    {
     "data": {
      "image/png": "[encoded data removed]",
      "text/plain": [
       "<Figure size 432x288 with 1 Axes>"
      ]
     },
     "metadata": {
      "needs_background": "light"
     },
     "output_type": "display_data"
    },
    {
     "name": "stdout",
     "output_type": "stream",
     "text": [
      "Mean: 1.9668693930977237\n",
      "Median: 1\n",
      "Mode: 2\n",
      "Min: 1\n",
      "Max: 57\n"
     ]
    },
    {
     "data": {
      "image/png": "[encoded data removed]",
      "text/plain": [
       "<Figure size 432x288 with 1 Axes>"
      ]
     },
     "metadata": {
      "needs_background": "light"
     },
     "output_type": "display_data"
    },
    {
     "name": "stdout",
     "output_type": "stream",
     "text": [
      "Mean: 3.266714422158548\n",
      "Median: 2\n",
      "Mode: 3\n",
      "Min: 1\n",
      "Max: 9\n"
     ]
    },
    {
     "data": {
      "image/png": "[encoded data removed]",
      "text/plain": [
       "<Figure size 432x288 with 1 Axes>"
      ]
     },
     "metadata": {
      "needs_background": "light"
     },
     "output_type": "display_data"
    },
    {
     "name": "stdout",
     "output_type": "stream",
     "text": [
      "Mean: 19.6282886797007\n",
      "Median: 13\n",
      "Mode: 8\n",
      "Min: 1\n",
      "Max: 913\n"
     ]
    },
    {
     "data": {
      "image/png": "[encoded data removed]",
      "text/plain": [
       "<Figure size 432x288 with 1 Axes>"
      ]
     },
     "metadata": {
      "needs_background": "light"
     },
     "output_type": "display_data"
    },
    {
     "name": "stdout",
     "output_type": "stream",
     "text": [
      "Mean: 3.0192926045016075\n",
      "Median: 2\n",
      "Mode: 2\n",
      "Min: 1\n",
      "Max: 9\n"
     ]
    }
   ],
   "source": [
    "def speakers_per_convo(corpus_name):\n",
    "    corpus = corpora[corpus_name]\n",
    "    counts = []\n",
    "    for convo in corpus.iter_conversations():\n",
    "        counts.append(len(convo.get_speaker_ids()))\n",
    "\n",
    "    plt.hist(counts, bins=range(10), align='left')\n",
    "    plt.title(corpus_name)\n",
    "    plt.show()\n",
    "    \n",
    "    print('Mean: ' +  str(sum(counts) / len(counts)))\n",
    "    print('Median: ' +  str(counts[len(counts) // 2]))\n",
    "    print('Mode: ' +  str(mode(counts)))\n",
    "    print('Min: ' +  str(min(counts)))\n",
    "    print('Max: ' +  str(max(counts)))\n",
    "    \n",
    "for c in corpora:\n",
    "    speakers_per_convo(c)"
   ]
  },
  {
   "cell_type": "code",
   "execution_count": 5,
   "metadata": {},
   "outputs": [
    {
     "data": {
      "image/png": "[encoded data removed]",
      "text/plain": [
       "<Figure size 432x288 with 1 Axes>"
      ]
     },
     "metadata": {
      "needs_background": "light"
     },
     "output_type": "display_data"
    },
    {
     "name": "stdout",
     "output_type": "stream",
     "text": [
      "Mean: 3.1230565399227403\n",
      "Median: 2\n",
      "Mode: 2\n",
      "Min: 2\n",
      "Max: 59\n"
     ]
    },
    {
     "data": {
      "image/png": "[encoded data removed]",
      "text/plain": [
       "<Figure size 432x288 with 1 Axes>"
      ]
     },
     "metadata": {
      "needs_background": "light"
     },
     "output_type": "display_data"
    },
    {
     "name": "stdout",
     "output_type": "stream",
     "text": [
      "Mean: 7.168338108882521\n",
      "Median: 7\n",
      "Mode: 6\n",
      "Min: 3\n",
      "Max: 20\n"
     ]
    },
    {
     "data": {
      "image/png": "[encoded data removed]",
      "text/plain": [
       "<Figure size 432x288 with 1 Axes>"
      ]
     },
     "metadata": {
      "needs_background": "light"
     },
     "output_type": "display_data"
    },
    {
     "name": "stdout",
     "output_type": "stream",
     "text": [
      "Mean: 35.85952208544533\n",
      "Median: 15\n",
      "Mode: 11\n",
      "Min: 11\n",
      "Max: 1482\n"
     ]
    },
    {
     "data": {
      "image/png": "[encoded data removed]",
      "text/plain": [
       "<Figure size 432x288 with 1 Axes>"
      ]
     },
     "metadata": {
      "needs_background": "light"
     },
     "output_type": "display_data"
    },
    {
     "name": "stdout",
     "output_type": "stream",
     "text": [
      "Mean: 6.279450453083894\n",
      "Median: 2\n",
      "Mode: 4\n",
      "Min: 2\n",
      "Max: 22\n"
     ]
    }
   ],
   "source": [
    "def utterances_per_convo(corpus_name):\n",
    "    corpus = corpora[corpus_name]\n",
    "    counts = []\n",
    "    for convo in corpus.iter_conversations():\n",
    "        counts.append(len(convo.get_utterance_ids()))\n",
    "        \n",
    "    plt.hist(counts, bins=range(0, 30, 5), align='left')\n",
    "    plt.title(corpus_name)\n",
    "    plt.show()\n",
    "    \n",
    "    print('Mean: ' +  str(sum(counts) / len(counts)))\n",
    "    print('Median: ' +  str(counts[len(counts) // 2]))\n",
    "    print('Mode: ' +  str(mode(counts)))\n",
    "    print('Min: ' +  str(min(counts)))\n",
    "    print('Max: ' +  str(max(counts)))\n",
    "    \n",
    "for c in corpora:\n",
    "    utterances_per_convo(c)"
   ]
  },
  {
   "cell_type": "code",
   "execution_count": 6,
   "metadata": {},
   "outputs": [
    {
     "data": {
      "image/png": "[encoded data removed]",
      "text/plain": [
       "<Figure size 432x288 with 1 Axes>"
      ]
     },
     "metadata": {
      "needs_background": "light"
     },
     "output_type": "display_data"
    },
    {
     "name": "stdout",
     "output_type": "stream",
     "text": [
      "Mean: 1.2057595956180085\n",
      "Median: 2\n",
      "Mode: 1\n",
      "Min: 1\n",
      "Max: 53\n",
      "Errors: 12923\n"
     ]
    },
    {
     "data": {
      "image/png": "[encoded data removed]",
      "text/plain": [
       "<Figure size 432x288 with 1 Axes>"
      ]
     },
     "metadata": {
      "needs_background": "light"
     },
     "output_type": "display_data"
    },
    {
     "name": "stdout",
     "output_type": "stream",
     "text": [
      "Mean: 2.964778810932657\n",
      "Median: 3\n",
      "Mode: 2\n",
      "Min: 1\n",
      "Max: 12\n",
      "Errors: 639\n"
     ]
    },
    {
     "data": {
      "image/png": "[encoded data removed]",
      "text/plain": [
       "<Figure size 432x288 with 1 Axes>"
      ]
     },
     "metadata": {
      "needs_background": "light"
     },
     "output_type": "display_data"
    },
    {
     "name": "stdout",
     "output_type": "stream",
     "text": [
      "Mean: 15.741853729181752\n",
      "Median: 7\n",
      "Mode: 5\n",
      "Min: 1\n",
      "Max: 911\n",
      "Errors: 0\n"
     ]
    },
    {
     "data": {
      "image/png": "[encoded data removed]",
      "text/plain": [
       "<Figure size 432x288 with 1 Axes>"
      ]
     },
     "metadata": {
      "needs_background": "light"
     },
     "output_type": "display_data"
    },
    {
     "name": "stdout",
     "output_type": "stream",
     "text": [
      "Mean: 1.0\n",
      "Median: 1\n",
      "Mode: 1\n",
      "Min: 1\n",
      "Max: 1\n",
      "Errors: 0\n"
     ]
    }
   ],
   "source": [
    "def paths_per_convo(corpus_name):\n",
    "    corpus = corpora[corpus_name]\n",
    "    counts = []\n",
    "    error_count = 0\n",
    "    for convo in corpus.iter_conversations():\n",
    "        try: \n",
    "            counts.append(len(convo.get_root_to_leaf_paths()))\n",
    "        except ValueError as e:\n",
    "            error_count += 1\n",
    "        \n",
    "    plt.hist(counts, bins=range(15), align='left')\n",
    "    plt.title(corpus_name)\n",
    "    plt.show()\n",
    "    \n",
    "    print('Mean: ' +  str(sum(counts) / len(counts)))\n",
    "    print('Median: ' +  str(counts[len(counts) // 2]))\n",
    "    print('Mode: ' +  str(mode(counts)))\n",
    "    print('Min: ' +  str(min(counts)))\n",
    "    print('Max: ' +  str(max(counts)))\n",
    "    print('Errors: ' +  str(error_count))\n",
    "    \n",
    "for c in corpora:\n",
    "    paths_per_convo(c)"
   ]
  },
  {
   "cell_type": "code",
   "execution_count": 7,
   "metadata": {},
   "outputs": [
    {
     "name": "stdout",
     "output_type": "stream",
     "text": [
      "wiki_talk\n",
      "(6577/125292) 5.2% conversations valid\n",
      "-----------\n",
      "wiki_awry\n",
      "(637/4188) 15.2% conversations valid\n",
      "-----------\n",
      "reddit\n",
      "(595/8286) 7.2% conversations valid\n",
      "-----------\n",
      "reddit_awry\n",
      "(1224/6842) 17.9% conversations valid\n",
      "-----------\n"
     ]
    }
   ],
   "source": [
    "# We want to consider conversations with a call-reply structure between two speakers, having at least five utterances\n",
    "def detect_interlocution(conv, min_utts, print=False):\n",
    "    '''\n",
    "    Finds whether the conversation has a call-reply structure between two speakers with at least min_utts utterances\n",
    "\n",
    "    ~~~~~~~~~~~ ARGUMENTS ~~~~~~~~~~~\n",
    "        > conv - entire conversation object\n",
    "        > min_utts - the minimum number of utterances that constitute a valid conversation\n",
    "        > print - whether or not to print why the conversation was rejected\n",
    "    ~~~~~~~~~~~~ RETURNS ~~~~~~~~~~~~\n",
    "        > bool representing whether or not the conversation's longest path has the aforementioned structure\n",
    "    '''\n",
    "    # At the moment, only considering first longest path if there are multiple # TODO: Add functionality to examine all paths\n",
    "    try:\n",
    "        longest_path = conv.get_longest_paths()[0]\n",
    "    except ValueError as v:\n",
    "        if print:\n",
    "            print(v)\n",
    "            print('skipping...')\n",
    "        return False\n",
    "    \n",
    "    if len(longest_path) < min_utts:\n",
    "        if print:\n",
    "            print('Less than {} utterances in conversation\\nskipping...'.format(min_utts))\n",
    "        return False\n",
    "\n",
    "    speakers = []\n",
    "\n",
    "    for utt in longest_path:\n",
    "        speakers.append(utt.get_speaker().id)\n",
    "    \n",
    "    if len(set(speakers)) > 2:\n",
    "        if print:\n",
    "            print('More than 2 speakers in conversation\\nskipping...')\n",
    "        return False\n",
    "\n",
    "    return True\n",
    "\n",
    "for name, corpus in corpora.items():\n",
    "    # Determine number of valid conversations\n",
    "    num_valid = 0\n",
    "    valid_conv_ids = []  # Will hold IDs of all valid converations\n",
    "    for conv in corpus.iter_conversations():\n",
    "        if detect_interlocution(conv, 5):\n",
    "            valid_conv_ids.append(conv.id)\n",
    "            num_valid += 1\n",
    "    print(name)\n",
    "    print('({}/{}) {:.1f}% conversations valid'.format(num_valid, len(corpus.get_conversation_ids()), num_valid*100/len(corpus.get_conversation_ids())))\n",
    "    print(('-----------'))"
   ]
  },
  {
   "cell_type": "code",
   "execution_count": 8,
   "metadata": {},
   "outputs": [
    {
     "name": "stdout",
     "output_type": "stream",
     "text": [
      "ALL LONGEST PATHS\n",
      "wiki_talk\n",
      "6957 utterances valid\n",
      "------------\n",
      "wiki_awry\n",
      "709 utterances valid\n",
      "------------\n",
      "reddit\n",
      "700 utterances valid\n",
      "------------\n",
      "reddit_awry\n",
      "1224 utterances valid\n",
      "------------\n",
      "---------------------\n",
      "---------------------\n",
      "---------------------\n",
      "ALL ROOT TO LEAF PATHS:\n",
      "wiki_talk\n",
      "7517 utterances valid\n",
      "------------\n",
      "wiki_awry\n",
      "782 utterances valid\n",
      "------------\n",
      "reddit\n",
      "2231 utterances valid\n",
      "------------\n",
      "reddit_awry\n",
      "1224 utterances valid\n",
      "------------\n"
     ]
    }
   ],
   "source": [
    "# We want to consider conversations with a call-reply structure between two speakers, having at least five utterances\n",
    "def detect_interlocution(conv, min_utts, longest, print=False):\n",
    "    '''\n",
    "    Finds whether the conversation has a call-reply structure between two speakers with at least min_utts utterances\n",
    "\n",
    "    ~~~~~~~~~~~ ARGUMENTS ~~~~~~~~~~~\n",
    "        > conv - entire conversation object\n",
    "        > min_utts - the minimum number of utterances that constitute a valid conversation\n",
    "        > print - whether or not to print why the conversation was rejected\n",
    "    ~~~~~~~~~~~~ RETURNS ~~~~~~~~~~~~\n",
    "        > bool representing whether or not the conversation's longest path has the aforementioned structure\n",
    "    '''\n",
    "    try:\n",
    "        if longest:\n",
    "            paths = conv.get_longest_paths()\n",
    "        else:\n",
    "            paths = conv.get_root_to_leaf_paths()\n",
    "    except ValueError as v:\n",
    "        if print:\n",
    "            print(v)\n",
    "            print('skipping...')\n",
    "        return False\n",
    "    \n",
    "    num_valid = 0\n",
    "    for path in paths:\n",
    "        if len(path) < min_utts:\n",
    "            if print:\n",
    "                print('Less than {} utterances in conversation\\nskipping...'.format(min_utts))\n",
    "            continue\n",
    "\n",
    "        speakers = []\n",
    "\n",
    "        for utt in path:\n",
    "            speakers.append(utt.get_speaker().id)\n",
    "\n",
    "        if len(set(speakers)) > 2:\n",
    "            if print:\n",
    "                print('More than 2 speakers in conversation\\nskipping...')\n",
    "            continue\n",
    "        num_valid += 1\n",
    "\n",
    "    return num_valid\n",
    "\n",
    "print('ALL LONGEST PATHS')\n",
    "for name, corpus in corpora.items():\n",
    "    # Determine number of valid conversations\n",
    "    num_valid = 0\n",
    "    num_convos_valid = 0\n",
    "    valid_conv_ids = []  # Will hold IDs of all valid converations\n",
    "    for conv in corpus.iter_conversations():\n",
    "        result = detect_interlocution(conv, 5, True)\n",
    "        if result:\n",
    "            valid_conv_ids.append(conv.id)\n",
    "            num_valid += result\n",
    "            num_convos_valid += 1\n",
    "\n",
    "    print(name)\n",
    "    print('{} utterances valid'.format(num_valid))\n",
    "    print('------------')\n",
    "    \n",
    "print('---------------------')\n",
    "print('---------------------')\n",
    "print('---------------------')\n",
    "print ('ALL ROOT TO LEAF PATHS:')\n",
    "for name, corpus in corpora.items():\n",
    "    # Determine number of valid conversations\n",
    "    num_valid = 0\n",
    "    valid_conv_ids = []  # Will hold IDs of all valid converations\n",
    "    for conv in corpus.iter_conversations():\n",
    "        result = detect_interlocution(conv, 5, False)\n",
    "        if result:\n",
    "            valid_conv_ids.append(conv.id)\n",
    "            num_valid += result\n",
    "\n",
    "    print(name)\n",
    "    print('{} utterances valid'.format(num_valid,))\n",
    "    print('------------')"
   ]
  },
  {
   "cell_type": "code",
   "execution_count": 9,
   "metadata": {},
   "outputs": [
    {
     "name": "stdout",
     "output_type": "stream",
     "text": [
      "wiki_talk\n",
      "(4921/125292) 3.9% conversations valid\n",
      "-----------\n",
      "wiki_awry\n",
      "(1013/4188) 24.2% conversations valid\n",
      "-----------\n",
      "reddit\n",
      "(1932/8286) 23.3% conversations valid\n",
      "-----------\n",
      "reddit_awry\n",
      "(1352/6842) 19.8% conversations valid\n",
      "-----------\n"
     ]
    }
   ],
   "source": [
    "from collections import Counter\n",
    "\n",
    "# We want to consider conversations with a call-reply structure between two speakers, having at least five utterances\n",
    "def detect_interlocution(conv, min_utts, print=False):\n",
    "    '''\n",
    "    Finds whether the conversation has a call-reply structure between two speakers with at least min_utts utterances\n",
    "\n",
    "    ~~~~~~~~~~~ ARGUMENTS ~~~~~~~~~~~\n",
    "        > conv - entire conversation object\n",
    "        > min_utts - the minimum number of utterances that constitute a valid conversation\n",
    "        > print - whether or not to print why the conversation was rejected\n",
    "    ~~~~~~~~~~~~ RETURNS ~~~~~~~~~~~~\n",
    "        > bool representing whether or not the conversation's longest path has the aforementioned structure\n",
    "    '''\n",
    "    # At the moment, only considering first longest path if there are multiple # TODO: Add functionality to examine all paths\n",
    "    try:\n",
    "        speakers = conv.get_chronological_speaker_list()\n",
    "        op = speakers[0]\n",
    "    except ValueError as v:\n",
    "        if print:\n",
    "            print(v)\n",
    "            print('skipping...')\n",
    "        return False\n",
    "    \n",
    "    num_valid = 0\n",
    "    speaker_set = set(speakers)\n",
    "    counts = Counter(speakers)\n",
    "    \n",
    "    if counts[op] < min_utts:\n",
    "        return False \n",
    "    \n",
    "    for speaker in speaker_set:\n",
    "        if counts[speaker] >= min_utts:\n",
    "            num_valid += 1\n",
    "        \n",
    "    return num_valid - 1\n",
    "\n",
    "for name, corpus in corpora.items():\n",
    "    # Determine number of valid conversations\n",
    "    num_valid = 0\n",
    "    valid_conv_ids = []  # Will hold IDs of all valid converations\n",
    "    for conv in corpus.iter_conversations():\n",
    "        if detect_interlocution(conv, 3):\n",
    "            valid_conv_ids.append(conv.id)\n",
    "            num_valid += 1\n",
    "    print(name)\n",
    "    print('({}/{}) {:.1f}% conversations valid'.format(num_valid, len(corpus.get_conversation_ids()), num_valid*100/len(corpus.get_conversation_ids())))\n",
    "    print(('-----------'))"
   ]
  },
  {
   "cell_type": "code",
   "execution_count": 10,
   "metadata": {},
   "outputs": [
    {
     "name": "stdout",
     "output_type": "stream",
     "text": [
      "(7453/117930) 6.3% pairwise exchanges valid\n",
      "-----------\n",
      "error with wiki_awry\n",
      "-----------\n",
      "(3744/218902) 1.7% pairwise exchanges valid\n",
      "-----------\n",
      "(858/20956) 4.1% pairwise exchanges valid\n",
      "-----------\n"
     ]
    }
   ],
   "source": [
    "def filter_pairwise(corpus, min_utt):\n",
    "    pair_exchanges = corpus.directed_pairwise_exchanges(speaker_ids_only=True)\n",
    "    length = len(pair_exchanges)\n",
    "\n",
    "    count = 0\n",
    "    for k, v in pair_exchanges.items():\n",
    "        if len(v) >= min_utt:\n",
    "            count += 1\n",
    "    return count, length\n",
    "    \n",
    "    \n",
    "for name, corpus in corpora.items():\n",
    "    # Determine number of valid conversations\n",
    "    num_valid = 0\n",
    "    try:\n",
    "        count, length = filter_pairwise(corpus, 5)\n",
    "        print('({}/{}) {:.1f}% pairwise exchanges valid'.format(count, length, count*100/length))\n",
    "        print(('-----------'))\n",
    "    except KeyError as e:\n",
    "        print('error with ' + name)\n",
    "        print(('-----------'))"
   ]
  },
  {
   "cell_type": "code",
   "execution_count": 11,
   "metadata": {},
   "outputs": [
    {
     "name": "stdout",
     "output_type": "stream",
     "text": [
      "Conversation('id': '146743638.12652.12652', 'utterances': ['146743638.12652.12652', '146743638.12667.12652', '146842219.12874.12874', '146860774.13072.13072'], 'meta': {'page_title': 'User talk:2005', 'page_id': 1003212, 'pair_id': '143890867.11926.11926', 'conversation_has_personal_attack': False, 'verified': True, 'pair_verified': True, 'annotation_year': '2018', 'split': 'train'})\n"
     ]
    }
   ],
   "source": [
    "for convo in wiki_awry_corpus.iter_conversations():\n",
    "    c = convo\n",
    "    try: \n",
    "        c.get_root_to_leaf_paths()\n",
    "    except ValueError as e:\n",
    "        break\n",
    "print(c)"
   ]
  },
  {
   "cell_type": "code",
   "execution_count": 12,
   "metadata": {},
   "outputs": [
    {
     "name": "stdout",
     "output_type": "stream",
     "text": [
      "Checking reply-to chain of Conversation 146743638.12652.12652\n",
      "\u001b[91mWARNING: \u001b[0mERROR: Missing utterance 146842696.12874.12874\n"
     ]
    },
    {
     "data": {
      "text/plain": [
       "False"
      ]
     },
     "execution_count": 12,
     "metadata": {},
     "output_type": "execute_result"
    }
   ],
   "source": [
    "c.check_integrity()"
   ]
  },
  {
   "cell_type": "code",
   "execution_count": 13,
   "metadata": {},
   "outputs": [
    {
     "data": {
      "text/plain": [
       "['146743638.12652.12652',\n",
       " '146743638.12667.12652',\n",
       " '146842219.12874.12874',\n",
       " '146860774.13072.13072']"
      ]
     },
     "execution_count": 13,
     "metadata": {},
     "output_type": "execute_result"
    }
   ],
   "source": [
    "c.get_utterance_ids()"
   ]
  },
  {
   "cell_type": "code",
   "execution_count": 14,
   "metadata": {},
   "outputs": [
    {
     "data": {
      "text/html": [
       "<div>\n",
       "<style scoped>\n",
       "    .dataframe tbody tr th:only-of-type {\n",
       "        vertical-align: middle;\n",
       "    }\n",
       "\n",
       "    .dataframe tbody tr th {\n",
       "        vertical-align: top;\n",
       "    }\n",
       "\n",
       "    .dataframe thead th {\n",
       "        text-align: right;\n",
       "    }\n",
       "</style>\n",
       "<table border=\"1\" class=\"dataframe\">\n",
       "  <thead>\n",
       "    <tr style=\"text-align: right;\">\n",
       "      <th></th>\n",
       "      <th>timestamp</th>\n",
       "      <th>text</th>\n",
       "      <th>speaker</th>\n",
       "      <th>reply_to</th>\n",
       "      <th>conversation_id</th>\n",
       "      <th>meta.is_section_header</th>\n",
       "      <th>meta.comment_has_personal_attack</th>\n",
       "      <th>meta.toxicity</th>\n",
       "      <th>meta.parsed</th>\n",
       "    </tr>\n",
       "    <tr>\n",
       "      <th>id</th>\n",
       "      <th></th>\n",
       "      <th></th>\n",
       "      <th></th>\n",
       "      <th></th>\n",
       "      <th></th>\n",
       "      <th></th>\n",
       "      <th></th>\n",
       "      <th></th>\n",
       "      <th></th>\n",
       "    </tr>\n",
       "  </thead>\n",
       "  <tbody>\n",
       "    <tr>\n",
       "      <th>146743638.12652.12652</th>\n",
       "      <td>1.1853e+09</td>\n",
       "      <td>== [WIKI_LINK: WP:COMMONNAME] ==\\n</td>\n",
       "      <td>Sirex98</td>\n",
       "      <td>None</td>\n",
       "      <td>146743638.12652.12652</td>\n",
       "      <td>True</td>\n",
       "      <td>False</td>\n",
       "      <td>0</td>\n",
       "      <td>[{'rt': 3, 'toks': [{'tok': '=', 'tag': 'NFP',...</td>\n",
       "    </tr>\n",
       "    <tr>\n",
       "      <th>146743638.12667.12652</th>\n",
       "      <td>1.18528e+09</td>\n",
       "      <td>I notice that earier that  moved wiki_link to ...</td>\n",
       "      <td>Sirex98</td>\n",
       "      <td>146743638.12652.12652</td>\n",
       "      <td>146743638.12652.12652</td>\n",
       "      <td>False</td>\n",
       "      <td>False</td>\n",
       "      <td>0.0781406</td>\n",
       "      <td>[{'rt': 33, 'toks': [{'tok': 'I', 'tag': 'PRP'...</td>\n",
       "    </tr>\n",
       "    <tr>\n",
       "      <th>146842219.12874.12874</th>\n",
       "      <td>1.18531e+09</td>\n",
       "      <td>Chen was known in the poker world as \"William\"...</td>\n",
       "      <td>2005</td>\n",
       "      <td>146743638.12667.12652</td>\n",
       "      <td>146743638.12652.12652</td>\n",
       "      <td>False</td>\n",
       "      <td>False</td>\n",
       "      <td>0.0317842</td>\n",
       "      <td>[{'rt': 2, 'toks': [{'tok': 'Chen', 'tag': 'NN...</td>\n",
       "    </tr>\n",
       "    <tr>\n",
       "      <th>146860774.13072.13072</th>\n",
       "      <td>1.18532e+09</td>\n",
       "      <td>I see what you saying I just read his pokersta...</td>\n",
       "      <td>Sirex98</td>\n",
       "      <td>146842696.12874.12874</td>\n",
       "      <td>146743638.12652.12652</td>\n",
       "      <td>False</td>\n",
       "      <td>False</td>\n",
       "      <td>0.030405</td>\n",
       "      <td>[{'rt': 13, 'toks': [{'tok': 'I', 'tag': 'PRP'...</td>\n",
       "    </tr>\n",
       "  </tbody>\n",
       "</table>\n",
       "</div>"
      ],
      "text/plain": [
       "                         timestamp  \\\n",
       "id                                   \n",
       "146743638.12652.12652   1.1853e+09   \n",
       "146743638.12667.12652  1.18528e+09   \n",
       "146842219.12874.12874  1.18531e+09   \n",
       "146860774.13072.13072  1.18532e+09   \n",
       "\n",
       "                                                                    text  \\\n",
       "id                                                                         \n",
       "146743638.12652.12652                 == [WIKI_LINK: WP:COMMONNAME] ==\\n   \n",
       "146743638.12667.12652  I notice that earier that  moved wiki_link to ...   \n",
       "146842219.12874.12874  Chen was known in the poker world as \"William\"...   \n",
       "146860774.13072.13072  I see what you saying I just read his pokersta...   \n",
       "\n",
       "                       speaker               reply_to        conversation_id  \\\n",
       "id                                                                             \n",
       "146743638.12652.12652  Sirex98                   None  146743638.12652.12652   \n",
       "146743638.12667.12652  Sirex98  146743638.12652.12652  146743638.12652.12652   \n",
       "146842219.12874.12874     2005  146743638.12667.12652  146743638.12652.12652   \n",
       "146860774.13072.13072  Sirex98  146842696.12874.12874  146743638.12652.12652   \n",
       "\n",
       "                      meta.is_section_header meta.comment_has_personal_attack  \\\n",
       "id                                                                              \n",
       "146743638.12652.12652                   True                            False   \n",
       "146743638.12667.12652                  False                            False   \n",
       "146842219.12874.12874                  False                            False   \n",
       "146860774.13072.13072                  False                            False   \n",
       "\n",
       "                      meta.toxicity  \\\n",
       "id                                    \n",
       "146743638.12652.12652             0   \n",
       "146743638.12667.12652     0.0781406   \n",
       "146842219.12874.12874     0.0317842   \n",
       "146860774.13072.13072      0.030405   \n",
       "\n",
       "                                                             meta.parsed  \n",
       "id                                                                        \n",
       "146743638.12652.12652  [{'rt': 3, 'toks': [{'tok': '=', 'tag': 'NFP',...  \n",
       "146743638.12667.12652  [{'rt': 33, 'toks': [{'tok': 'I', 'tag': 'PRP'...  \n",
       "146842219.12874.12874  [{'rt': 2, 'toks': [{'tok': 'Chen', 'tag': 'NN...  \n",
       "146860774.13072.13072  [{'rt': 13, 'toks': [{'tok': 'I', 'tag': 'PRP'...  "
      ]
     },
     "execution_count": 14,
     "metadata": {},
     "output_type": "execute_result"
    }
   ],
   "source": [
    "c.get_utterances_dataframe()"
   ]
  },
  {
   "cell_type": "markdown",
   "metadata": {},
   "source": [
    "# Other Exploration"
   ]
  },
  {
   "cell_type": "markdown",
   "metadata": {},
   "source": [
    "## Comparing All Corpora"
   ]
  },
  {
   "cell_type": "code",
   "execution_count": null,
   "metadata": {},
   "outputs": [],
   "source": [
    "def length_data(corpus):\n",
    "    lengths = []\n",
    "    for utt in corpus.iter_utterances():\n",
    "        lengths.append(len(utt.text))\n",
    "    return sum(lengths)/len(lengths), lengths[len(lengths)//2]"
   ]
  },
  {
   "cell_type": "code",
   "execution_count": null,
   "metadata": {},
   "outputs": [],
   "source": [
    "averages = []\n",
    "medians = []\n",
    "for corpus in corpora:\n",
    "    averages.append(length_data(corpora[corpus])[0])\n",
    "    medians.append(length_data(corpora[corpus])[1])"
   ]
  },
  {
   "cell_type": "code",
   "execution_count": null,
   "metadata": {
    "scrolled": true
   },
   "outputs": [],
   "source": [
    "plt.title('Average Length of Comment')\n",
    "plt.bar(corpora.keys(), averages)\n",
    "plt.show()"
   ]
  },
  {
   "cell_type": "code",
   "execution_count": null,
   "metadata": {},
   "outputs": [],
   "source": [
    "plt.title('Median Length of Comment')\n",
    "plt.bar(corpora.keys(), medians)\n",
    "plt.show()"
   ]
  },
  {
   "cell_type": "code",
   "execution_count": null,
   "metadata": {},
   "outputs": [],
   "source": [
    "def profanity_percent(corpus):\n",
    "    lst = []\n",
    "    for i in range(1000):\n",
    "        lst.append(profanity.contains_profanity(corpus.random_utterance().text))\n",
    "    print('DONE')\n",
    "    return sum(lst) / len(lst)"
   ]
  },
  {
   "cell_type": "code",
   "execution_count": null,
   "metadata": {},
   "outputs": [],
   "source": [
    "profanities = []\n",
    "for corpus in corpora:\n",
    "    profanities.append(profanity_percent(corpora[corpus]))"
   ]
  },
  {
   "cell_type": "code",
   "execution_count": null,
   "metadata": {},
   "outputs": [],
   "source": [
    "plt.title('Percent of Text With Profanity (random sample from each corpus)')\n",
    "plt.bar(corpora.keys(), profanities)\n",
    "plt.show()"
   ]
  },
  {
   "cell_type": "markdown",
   "metadata": {},
   "source": [
    "## Exploring Reddit Corpora"
   ]
  },
  {
   "cell_type": "code",
   "execution_count": null,
   "metadata": {},
   "outputs": [],
   "source": [
    "convos = reddit_corpus.get_conversations_dataframe()\n",
    "convos.columns = convos.columns.str.replace('.','_')\n",
    "convos.head()"
   ]
  },
  {
   "cell_type": "code",
   "execution_count": null,
   "metadata": {},
   "outputs": [],
   "source": [
    "print(convos.meta_subreddit.value_counts())\n",
    "convos.meta_subreddit.value_counts()[:10].plot.bar(title='Top 10 Subreddits in Reddit Corpus')\n",
    "plt.show()"
   ]
  },
  {
   "cell_type": "code",
   "execution_count": null,
   "metadata": {},
   "outputs": [],
   "source": [
    "reddit_utts = reddit_corpus.get_utterances_dataframe()\n",
    "reddit_utts.columns = reddit_utts.columns.str.replace('.','_')\n",
    "reddit_utts.head()"
   ]
  },
  {
   "cell_type": "code",
   "execution_count": null,
   "metadata": {},
   "outputs": [],
   "source": [
    "reddit_awry_utts = reddit_awry_corpus.get_utterances_dataframe()\n",
    "reddit_awry_utts.columns = reddit_awry_utts.columns.str.replace('.','_')\n",
    "reddit_awry_utts.head()"
   ]
  },
  {
   "cell_type": "code",
   "execution_count": null,
   "metadata": {
    "scrolled": true
   },
   "outputs": [],
   "source": [
    "def meta_score_stats(utts):\n",
    "    print('mean: ' + str(utts.meta_score.mean()))\n",
    "    print('median: ' + str(utts.meta_score.median()))\n",
    "    print('min: ' + str(utts.meta_score.min()))\n",
    "    print('max: ' + str(utts.meta_score.max()))\n",
    "\n",
    "print('Reddit Corpus - Scores')\n",
    "meta_score_stats(reddit_utts)\n",
    "print('-------------')\n",
    "print('Reddit Awry Corpus - Scores')\n",
    "meta_score_stats(reddit_awry_utts)"
   ]
  },
  {
   "cell_type": "markdown",
   "metadata": {},
   "source": [
    "## Exploring Wiki Corpora"
   ]
  },
  {
   "cell_type": "code",
   "execution_count": null,
   "metadata": {},
   "outputs": [],
   "source": [
    "convos = wiki_awry_corpus.get_conversations_dataframe()\n",
    "convos.columns = convos.columns.str.replace('.','_')\n",
    "convos.head()"
   ]
  },
  {
   "cell_type": "code",
   "execution_count": null,
   "metadata": {},
   "outputs": [],
   "source": [
    "convos.meta_conversation_has_personal_attack.value_counts().plot.bar(title='Conversation Has Personal Attack')\n",
    "plt.show()"
   ]
  },
  {
   "cell_type": "code",
   "execution_count": null,
   "metadata": {},
   "outputs": [],
   "source": [
    "wiki_awry_utts = wiki_awry_corpus.get_utterances_dataframe()\n",
    "wiki_awry_utts.columns = wiki_awry_utts.columns.str.replace('.','_')\n",
    "wiki_awry_utts.head()"
   ]
  },
  {
   "cell_type": "code",
   "execution_count": null,
   "metadata": {},
   "outputs": [],
   "source": [
    "wiki_talk_utts = wiki_talk_corpus.get_utterances_dataframe()\n",
    "wiki_talk_utts.columns = wiki_talk_utts.columns.str.replace('.','_')\n",
    "wiki_talk_utts.head()"
   ]
  },
  {
   "cell_type": "code",
   "execution_count": null,
   "metadata": {
    "scrolled": true
   },
   "outputs": [],
   "source": [
    "print('Has Personal Attack - Toxicity')\n",
    "print(wiki_awry_utts[wiki_awry_utts.meta_comment_has_personal_attack].meta_toxicity.mean())\n",
    "print('Does Not Have Personal Attack - Toxicity')\n",
    "print(wiki_awry_utts[wiki_awry_utts.meta_comment_has_personal_attack == False].meta_toxicity.mean())"
   ]
  }
 ],
 "metadata": {
  "kernelspec": {
   "display_name": "Python 3",
   "language": "python",
   "name": "python3"
  },
  "language_info": {
   "codemirror_mode": {
    "name": "ipython",
    "version": 3
   },
   "file_extension": ".py",
   "mimetype": "text/x-python",
   "name": "python",
   "nbconvert_exporter": "python",
   "pygments_lexer": "ipython3",
   "version": "3.8.5"
  }
 },
 "nbformat": 4,
 "nbformat_minor": 2
}
