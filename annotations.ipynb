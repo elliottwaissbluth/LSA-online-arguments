{
 "cells": [
  {
   "cell_type": "code",
   "execution_count": 1,
   "metadata": {},
   "outputs": [],
   "source": [
    "from nltk.metrics import agreement\n",
    "from scipy import stats\n",
    "\n",
    "import pickle\n",
    "import statistics\n",
    "import matplotlib.pyplot as plt"
   ]
  },
  {
   "cell_type": "code",
   "execution_count": 2,
   "metadata": {},
   "outputs": [],
   "source": [
    "modes = {}\n",
    "annotations = {}\n",
    "cols = ['1ab', '1ba', '2ab', '2ba', '3ab', '3ba']\n",
    "ab = ['1ab', '2ab', '3ab']\n",
    "ba = ['1ba', '2ba', '3ba']\n",
    "for col in cols:\n",
    "    annotations[col] = []\n",
    "    \n",
    "with open('annotations.csv', 'r') as file:\n",
    "    lines = file.readlines()\n",
    "    for line in lines[1:]:\n",
    "        convo_id, index, *a = line.rstrip().split(',')\n",
    "        if '' in a:\n",
    "            continue\n",
    "        for i in range(len(cols)):\n",
    "            annotations[cols[i]].append(a[i])\n",
    "        modes[convo_id] = (statistics.mode(a[::2]), statistics.mode(a[1::2]))"
   ]
  },
  {
   "cell_type": "code",
   "execution_count": 3,
   "metadata": {},
   "outputs": [],
   "source": [
    "data = []\n",
    "for k in [ab, ba]:\n",
    "    idx = 'ab' if k is ab else 'ba'\n",
    "    for i in range(len(k)):\n",
    "        lst = annotations[k[i]]\n",
    "        for j in range(len(lst)):\n",
    "            data.append((str(i), str(j) + idx, lst[j]))"
   ]
  },
  {
   "cell_type": "code",
   "execution_count": 4,
   "metadata": {},
   "outputs": [
    {
     "name": "stdout",
     "output_type": "stream",
     "text": [
      "Fleiss's Kappa: 0.2716269134923461\n"
     ]
    }
   ],
   "source": [
    "atask = agreement.AnnotationTask(data=data)\n",
    "\n",
    "print(\"Fleiss's Kappa:\", atask.multi_kappa())"
   ]
  },
  {
   "cell_type": "code",
   "execution_count": 5,
   "metadata": {},
   "outputs": [],
   "source": [
    "with open('full_results_annotations.pkl', 'rb') as file:\n",
    "    result = pickle.load(file)"
   ]
  },
  {
   "cell_type": "code",
   "execution_count": 6,
   "metadata": {},
   "outputs": [],
   "source": [
    "lsms = {}\n",
    "for corpus in result:\n",
    "    for convo in result[corpus]:\n",
    "        lsms[convo['convID']] = convo"
   ]
  },
  {
   "cell_type": "code",
   "execution_count": 7,
   "metadata": {},
   "outputs": [
    {
     "name": "stdout",
     "output_type": "stream",
     "text": [
      "648423195.135356.135356\n",
      "e6hmhtc\n"
     ]
    }
   ],
   "source": [
    "symm = {}\n",
    "for convo_id, labels in modes.items():\n",
    "    if labels not in symm:\n",
    "        symm[labels] = []\n",
    "    if convo_id not in lsms:\n",
    "        print(convo_id)\n",
    "        continue\n",
    "    symm[labels].append(lsms[convo_id]['mean_LSM'])"
   ]
  },
  {
   "cell_type": "code",
   "execution_count": 8,
   "metadata": {},
   "outputs": [],
   "source": [
    "nn = symm[('No', 'No')]\n",
    "yy = symm[('Yes', 'Yes')]\n",
    "yn = symm[('Yes', 'No')] + symm[('No', 'Yes')]"
   ]
  },
  {
   "cell_type": "code",
   "execution_count": 9,
   "metadata": {},
   "outputs": [
    {
     "data": {
      "image/png": "[encoded data removed]",
      "text/plain": [
       "<Figure size 432x288 with 1 Axes>"
      ]
     },
     "metadata": {
      "needs_background": "light"
     },
     "output_type": "display_data"
    }
   ],
   "source": [
    "plt.boxplot([nn, yy, yn])\n",
    "plt.show()"
   ]
  },
  {
   "cell_type": "code",
   "execution_count": 10,
   "metadata": {},
   "outputs": [
    {
     "name": "stdout",
     "output_type": "stream",
     "text": [
      "648423195.135356.135356\n",
      "648423195.135356.135356\n",
      "e6hmhtc\n",
      "e6hmhtc\n"
     ]
    }
   ],
   "source": [
    "yes = []\n",
    "no = []\n",
    "for convo_id, labels in modes.items():\n",
    "    for i in range(len(labels)): \n",
    "        label = labels[i]\n",
    "        if convo_id not in lsms:\n",
    "            print(convo_id)\n",
    "            continue\n",
    "        direction = 'mean_C_a_b' if i == 0 else 'mean_C_b_a'\n",
    "        if label == 'Yes':\n",
    "            yes.append(lsms[convo_id][direction])\n",
    "        else:\n",
    "            no.append(lsms[convo_id][direction])"
   ]
  },
  {
   "cell_type": "code",
   "execution_count": 11,
   "metadata": {},
   "outputs": [
    {
     "data": {
      "image/png": "[encoded data removed]",
      "text/plain": [
       "<Figure size 432x288 with 1 Axes>"
      ]
     },
     "metadata": {
      "needs_background": "light"
     },
     "output_type": "display_data"
    },
    {
     "data": {
      "text/plain": [
       "Ttest_indResult(statistic=-0.4038876715729715, pvalue=0.6893489522538458)"
      ]
     },
     "execution_count": 11,
     "metadata": {},
     "output_type": "execute_result"
    }
   ],
   "source": [
    "plt.boxplot([no, yes])\n",
    "plt.show()\n",
    "stats.ttest_ind(no, yes, equal_var=False)"
   ]
  }
 ],
 "metadata": {
  "kernelspec": {
   "display_name": "Python 3",
   "language": "python",
   "name": "python3"
  },
  "language_info": {
   "codemirror_mode": {
    "name": "ipython",
    "version": 3
   },
   "file_extension": ".py",
   "mimetype": "text/x-python",
   "name": "python",
   "nbconvert_exporter": "python",
   "pygments_lexer": "ipython3",
   "version": "3.8.5"
  }
 },
 "nbformat": 4,
 "nbformat_minor": 4
}
