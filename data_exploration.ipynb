{
 "metadata": {
  "language_info": {
   "codemirror_mode": {
    "name": "ipython",
    "version": 3
   },
   "file_extension": ".py",
   "mimetype": "text/x-python",
   "name": "python",
   "nbconvert_exporter": "python",
   "pygments_lexer": "ipython3",
   "version": "3.8.6-final"
  },
  "orig_nbformat": 2,
  "kernelspec": {
   "name": "python3",
   "display_name": "Python 3.8.6 64-bit",
   "metadata": {
    "interpreter": {
     "hash": "1131efc7635b497546d7e8fbc76ad9d1f9d5d5d7857bcde935d6feea39d08984"
    }
   }
  }
 },
 "nbformat": 4,
 "nbformat_minor": 2,
 "cells": [
  {
   "source": [
    "# Conversations gone awry, Wikipedia version"
   ],
   "cell_type": "markdown",
   "metadata": {}
  },
  {
   "cell_type": "code",
   "execution_count": 1,
   "metadata": {},
   "outputs": [
    {
     "output_type": "stream",
     "name": "stdout",
     "text": [
      "Downloading conversations-gone-awry-corpus to C:\\Users\\ewais\\.convokit\\downloads\\conversations-gone-awry-corpus\n",
      "Downloading conversations-gone-awry-corpus from http://zissou.infosci.cornell.edu/convokit/datasets/conversations-gone-awry-corpus/conversations-gone-awry-corpus.zip (45.2MB)... Done\n"
     ]
    }
   ],
   "source": [
    "from convokit import Corpus, download\n",
    "corpus = Corpus(filename=download('conversations-gone-awry-corpus'))"
   ]
  },
  {
   "cell_type": "code",
   "execution_count": 2,
   "metadata": {},
   "outputs": [
    {
     "output_type": "stream",
     "name": "stdout",
     "text": [
      "Number of Speakers: 8069\nNumber of Utterances: 30021\nNumber of Conversations: 4188\n"
     ]
    }
   ],
   "source": [
    "corpus.print_summary_stats()"
   ]
  },
  {
   "cell_type": "code",
   "execution_count": 5,
   "metadata": {},
   "outputs": [
    {
     "output_type": "stream",
     "name": "stdout",
     "text": [
      "Utterance(id: '692819984.2939.2913', conversation_id: 692819984.2913.2913, reply-to: 692819984.2913.2913, speaker: Speaker(id: Jaguar, vectors: [], meta: {}), timestamp: 1448723922.0, text: \"Is the Further appearances section worth mentioning this article? It seems like mostly WP:GAMECRUFT to me and doesn't offer any encyclopaedic value. Would anyone object if I removed it? \\xa0\", vectors: [], meta: {'is_section_header': False, 'comment_has_personal_attack': False, 'parsed': [{'rt': 0, 'toks': [{'tok': 'Is', 'tag': 'VBZ', 'dep': 'ROOT', 'dn': [4, 9]}, {'tok': 'the', 'tag': 'DT', 'dep': 'det', 'up': 3, 'dn': []}, {'tok': 'Further', 'tag': 'JJ', 'dep': 'amod', 'up': 3, 'dn': []}, {'tok': 'appearances', 'tag': 'NNS', 'dep': 'compound', 'up': 4, 'dn': [1, 2]}, {'tok': 'section', 'tag': 'NN', 'dep': 'nsubj', 'up': 0, 'dn': [3, 5]}, {'tok': 'worth', 'tag': 'JJ', 'dep': 'amod', 'up': 4, 'dn': [6]}, {'tok': 'mentioning', 'tag': 'VBG', 'dep': 'xcomp', 'up': 5, 'dn': [8]}, {'tok': 'this', 'tag': 'DT', 'dep': 'det', 'up': 8, 'dn': []}, {'tok': 'article', 'tag': 'NN', 'dep': 'dobj', 'up': 6, 'dn': [7]}, {'tok': '?', 'tag': '.', 'dep': 'punct', 'up': 0, 'dn': []}]}, {'rt': 1, 'toks': [{'tok': 'It', 'tag': 'PRP', 'dep': 'nsubj', 'up': 1, 'dn': []}, {'tok': 'seems', 'tag': 'VBZ', 'dep': 'ROOT', 'dn': [0, 2, 5]}, {'tok': 'like', 'tag': 'IN', 'dep': 'prep', 'up': 1, 'dn': [4]}, {'tok': 'mostly', 'tag': 'RB', 'dep': 'advmod', 'up': 4, 'dn': []}, {'tok': 'WP', 'tag': 'NNP', 'dep': 'pobj', 'up': 2, 'dn': [3]}, {'tok': ':', 'tag': ':', 'dep': 'punct', 'up': 1, 'dn': []}]}, {'rt': 0, 'toks': [{'tok': 'GAMECRUFT', 'tag': 'VB', 'dep': 'ROOT', 'dn': [1, 3, 6, 10]}, {'tok': 'to', 'tag': 'IN', 'dep': 'prep', 'up': 0, 'dn': [2]}, {'tok': 'me', 'tag': 'PRP', 'dep': 'pobj', 'up': 1, 'dn': []}, {'tok': 'and', 'tag': 'CC', 'dep': 'cc', 'up': 0, 'dn': []}, {'tok': 'does', 'tag': 'VBZ', 'dep': 'aux', 'up': 6, 'dn': []}, {'tok': \"n't\", 'tag': 'RB', 'dep': 'neg', 'up': 6, 'dn': []}, {'tok': 'offer', 'tag': 'VB', 'dep': 'conj', 'up': 0, 'dn': [4, 5, 9]}, {'tok': 'any', 'tag': 'DT', 'dep': 'det', 'up': 9, 'dn': []}, {'tok': 'encyclopaedic', 'tag': 'JJ', 'dep': 'amod', 'up': 9, 'dn': []}, {'tok': 'value', 'tag': 'NN', 'dep': 'dobj', 'up': 6, 'dn': [7, 8]}, {'tok': '.', 'tag': '.', 'dep': 'punct', 'up': 0, 'dn': []}]}, {'rt': 2, 'toks': [{'tok': 'Would', 'tag': 'MD', 'dep': 'aux', 'up': 2, 'dn': []}, {'tok': 'anyone', 'tag': 'NN', 'dep': 'nsubj', 'up': 2, 'dn': []}, {'tok': 'object', 'tag': 'VB', 'dep': 'ROOT', 'dn': [0, 1, 5, 7]}, {'tok': 'if', 'tag': 'IN', 'dep': 'mark', 'up': 5, 'dn': []}, {'tok': 'I', 'tag': 'PRP', 'dep': 'nsubj', 'up': 5, 'dn': []}, {'tok': 'removed', 'tag': 'VBD', 'dep': 'advcl', 'up': 2, 'dn': [3, 4, 6]}, {'tok': 'it', 'tag': 'PRP', 'dep': 'dobj', 'up': 5, 'dn': []}, {'tok': '?', 'tag': '.', 'dep': 'punct', 'up': 2, 'dn': [8]}, {'tok': '\\xa0', 'tag': '', 'dep': '', 'up': 7, 'dn': []}]}]})\n"
     ]
    }
   ],
   "source": [
    "utt = corpus.random_utterance()\n",
    "print(utt)"
   ]
  },
  {
   "source": [
    "## Utterance features\n",
    "- **id**: index of the utterance\n",
    "- **conversation_id**: id of the first utterance in the converstaion this utterance belongs to\n",
    "- **reply-to**: index of the utterance to which this utterance replies to (None if not a reply)\n",
    "- **speaker**: the speaker who authored the utterance\n",
    "- **timestamp**: timestamp of utterance\n",
    "- **text**: textual content of the utterance\n",
    "- **meta**: metadata for each utterance\n",
    "    - **is_section_header**: whether the utterance is a conversation \"title\" or \"subject\" (if true, the utterance should be ignored)\n",
    "    - **comment_has_personal_attack**: whether this comment was judged by 3 crowdsourced annotators to contain a personal comment_has_personal_attack\n",
    "    - **parsed**: SpaCy parsed version of the utterance text\n",
    "        - **rt**: ??\n",
    "        - **toks**: List of parsed tokens\n",
    "            - **tok**: the token (word, punctuation, etc.)\n",
    "            - **tag**: Detailed part of speech tag\n",
    "            - **dep**: syntactic dependency, i.e. the relation between the tokens\n",
    "            - **up**: list related to dn, not sure how\n",
    "            - **dn**: list related to up, not sure how"
   ],
   "cell_type": "markdown",
   "metadata": {}
  },
  {
   "cell_type": "code",
   "execution_count": 10,
   "metadata": {},
   "outputs": [
    {
     "output_type": "stream",
     "name": "stdout",
     "text": [
      "Conversation('id': '63084952.38734.38734', 'utterances': ['63084952.38749.38734', '63084952.38734.38734', '63095673.39064.39064', '63097041.39467.39467', '63097628.40367.40367', '63098730.40667.40667'], 'meta': {'page_title': 'Talk:Republic of Macedonia', 'page_id': 10206225, 'pair_id': '58937490.367459.367459', 'conversation_has_personal_attack': True, 'verified': False, 'pair_verified': False, 'annotation_year': '2019', 'split': 'test'})\n"
     ]
    }
   ],
   "source": [
    "convo = corpus.random_conversation()\n",
    "print(convo)"
   ]
  },
  {
   "source": [
    "## Conversation features\n",
    "\n",
    "- **id**: id of the conversation\n",
    "- **utterances**: ids of utterances in the conversation (in order I presume)\n",
    "- **meta**: conversation metadata\n",
    "    - **page_title**: title of page under which conversation is occurring\n",
    "    - **page_id**: unique numerical id of the talk page\n",
    "    - **pair_id**: the id of the conversation that this comment's conversation is paired with\n",
    "    - **conversation_has_personal_attack**: whether any comment in this comment's conversation contains a personal attack\n",
    "    - **verified**: whether the personal attack label has been verified by an internal annotator\n",
    "    - **pair_verified**: whether the personal attack label has been double checked by the internal annotator\n",
    "    - **annotation_year**: self explanatory\n",
    "    - **split**: (train, test, or val) whether this conversation was used as train, test, or val in \"Trouble on the Horizon\"\n"
   ],
   "cell_type": "markdown",
   "metadata": {}
  }
 ]
}